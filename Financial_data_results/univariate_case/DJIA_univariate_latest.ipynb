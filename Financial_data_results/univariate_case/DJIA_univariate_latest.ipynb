{
 "cells": [
  {
   "cell_type": "code",
   "execution_count": 1,
   "id": "faa4c256",
   "metadata": {},
   "outputs": [],
   "source": [
    "# install packages and libraries\n",
    "%matplotlib inline\n",
    "%matplotlib widget\n",
    "\n",
    "import pandas as pd\n",
    "import numpy as np\n",
    "import matplotlib.pyplot as plt\n",
    "#plt.rcParams[\"figure.figsize\"] = (11, 5)  #set default figure size\n",
    "\n",
    "plt.rcParams[\"figure.figsize\"] = (16, 9) #set default figure size (w, h) \n",
    "plt.style.use(\"ggplot\")\n",
    "import numpy.matlib\n",
    "import copy\n",
    "import scipy.sparse as sparse\n",
    "from numpy.random import default_rng"
   ]
  },
  {
   "cell_type": "code",
   "execution_count": 2,
   "id": "4861c81b",
   "metadata": {},
   "outputs": [],
   "source": [
    "import sys # importing sys\n",
    "  \n",
    "# adding Latest_scripts to the system path\n",
    "sys.path.insert(0, '../Latest_scripts/')\n",
    "sys.path.insert(0, '../../../ExternalHP_Codes/SteveMorse/hawkes-master/')\n",
    "\n",
    "import HP_scripts as HP # import module containing functions for the Masters project\n",
    "import MHP as MHP # import module containing EM functions from Steve Morse for the Masters project"
   ]
  },
  {
   "cell_type": "markdown",
   "id": "fb368f4c",
   "metadata": {},
   "source": [
    "# Load previous sesssion"
   ]
  },
  {
   "cell_type": "code",
   "execution_count": 3,
   "id": "8147e890",
   "metadata": {},
   "outputs": [
    {
     "data": {
      "application/vnd.jupyter.widget-view+json": {
       "model_id": "f8663e98290547a396f928486cf1ab89",
       "version_major": 2,
       "version_minor": 0
      },
      "text/plain": [
       "Canvas(toolbar=Toolbar(toolitems=[('Home', 'Reset original view', 'home', 'home'), ('Back', 'Back to previous …"
      ]
     },
     "metadata": {},
     "output_type": "display_data"
    }
   ],
   "source": [
    "import dill\n",
    "dill.load_session('DJIA_univHP_env_September_version2.db')"
   ]
  },
  {
   "cell_type": "markdown",
   "id": "2bf9aeba",
   "metadata": {
    "scrolled": false
   },
   "source": [
    "### Load the data discussed and analysed in https://methods.sagepub.com/dataset/howtoguide/multivariate-hawkes-in-djia-2018#i100"
   ]
  },
  {
   "cell_type": "code",
   "execution_count": 3,
   "id": "7969aaa1",
   "metadata": {},
   "outputs": [
    {
     "data": {
      "text/html": [
       "<div>\n",
       "<style scoped>\n",
       "    .dataframe tbody tr th:only-of-type {\n",
       "        vertical-align: middle;\n",
       "    }\n",
       "\n",
       "    .dataframe tbody tr th {\n",
       "        vertical-align: top;\n",
       "    }\n",
       "\n",
       "    .dataframe thead th {\n",
       "        text-align: right;\n",
       "    }\n",
       "</style>\n",
       "<table border=\"1\" class=\"dataframe\">\n",
       "  <thead>\n",
       "    <tr style=\"text-align: right;\">\n",
       "      <th></th>\n",
       "      <th>AABA</th>\n",
       "      <th>AAPL</th>\n",
       "      <th>AMZN</th>\n",
       "      <th>AXP</th>\n",
       "      <th>BA</th>\n",
       "      <th>CAT</th>\n",
       "      <th>CSCO</th>\n",
       "      <th>CVX</th>\n",
       "      <th>DIS</th>\n",
       "      <th>GE</th>\n",
       "      <th>...</th>\n",
       "      <th>MSFT</th>\n",
       "      <th>NKE</th>\n",
       "      <th>PFE</th>\n",
       "      <th>PG</th>\n",
       "      <th>TRV</th>\n",
       "      <th>UNH</th>\n",
       "      <th>UTX</th>\n",
       "      <th>VZ</th>\n",
       "      <th>WMT</th>\n",
       "      <th>XOM</th>\n",
       "    </tr>\n",
       "  </thead>\n",
       "  <tbody>\n",
       "    <tr>\n",
       "      <th>0</th>\n",
       "      <td>40.91</td>\n",
       "      <td>10.68</td>\n",
       "      <td>47.58</td>\n",
       "      <td>52.58</td>\n",
       "      <td>70.44</td>\n",
       "      <td>57.80</td>\n",
       "      <td>17.45</td>\n",
       "      <td>59.08</td>\n",
       "      <td>24.40</td>\n",
       "      <td>35.37</td>\n",
       "      <td>...</td>\n",
       "      <td>26.84</td>\n",
       "      <td>10.74</td>\n",
       "      <td>23.78</td>\n",
       "      <td>58.78</td>\n",
       "      <td>45.99</td>\n",
       "      <td>61.73</td>\n",
       "      <td>56.53</td>\n",
       "      <td>30.38</td>\n",
       "      <td>46.23</td>\n",
       "      <td>58.47</td>\n",
       "    </tr>\n",
       "    <tr>\n",
       "      <th>1</th>\n",
       "      <td>40.97</td>\n",
       "      <td>10.71</td>\n",
       "      <td>47.25</td>\n",
       "      <td>51.95</td>\n",
       "      <td>71.17</td>\n",
       "      <td>59.27</td>\n",
       "      <td>17.85</td>\n",
       "      <td>58.91</td>\n",
       "      <td>23.99</td>\n",
       "      <td>35.32</td>\n",
       "      <td>...</td>\n",
       "      <td>26.97</td>\n",
       "      <td>10.69</td>\n",
       "      <td>24.55</td>\n",
       "      <td>58.89</td>\n",
       "      <td>46.50</td>\n",
       "      <td>61.88</td>\n",
       "      <td>56.19</td>\n",
       "      <td>31.27</td>\n",
       "      <td>46.32</td>\n",
       "      <td>58.57</td>\n",
       "    </tr>\n",
       "    <tr>\n",
       "      <th>2</th>\n",
       "      <td>41.53</td>\n",
       "      <td>10.63</td>\n",
       "      <td>47.65</td>\n",
       "      <td>52.50</td>\n",
       "      <td>70.33</td>\n",
       "      <td>59.27</td>\n",
       "      <td>18.35</td>\n",
       "      <td>58.19</td>\n",
       "      <td>24.41</td>\n",
       "      <td>35.23</td>\n",
       "      <td>...</td>\n",
       "      <td>26.99</td>\n",
       "      <td>10.76</td>\n",
       "      <td>24.58</td>\n",
       "      <td>58.70</td>\n",
       "      <td>46.95</td>\n",
       "      <td>61.69</td>\n",
       "      <td>55.98</td>\n",
       "      <td>31.63</td>\n",
       "      <td>45.69</td>\n",
       "      <td>58.28</td>\n",
       "    </tr>\n",
       "    <tr>\n",
       "      <th>3</th>\n",
       "      <td>43.21</td>\n",
       "      <td>10.90</td>\n",
       "      <td>47.87</td>\n",
       "      <td>52.68</td>\n",
       "      <td>69.35</td>\n",
       "      <td>60.45</td>\n",
       "      <td>18.77</td>\n",
       "      <td>59.25</td>\n",
       "      <td>24.74</td>\n",
       "      <td>35.47</td>\n",
       "      <td>...</td>\n",
       "      <td>26.91</td>\n",
       "      <td>10.72</td>\n",
       "      <td>24.85</td>\n",
       "      <td>58.64</td>\n",
       "      <td>47.21</td>\n",
       "      <td>62.90</td>\n",
       "      <td>56.16</td>\n",
       "      <td>31.35</td>\n",
       "      <td>45.88</td>\n",
       "      <td>59.43</td>\n",
       "    </tr>\n",
       "    <tr>\n",
       "      <th>4</th>\n",
       "      <td>43.42</td>\n",
       "      <td>10.86</td>\n",
       "      <td>47.08</td>\n",
       "      <td>53.99</td>\n",
       "      <td>68.77</td>\n",
       "      <td>61.55</td>\n",
       "      <td>19.06</td>\n",
       "      <td>58.95</td>\n",
       "      <td>25.00</td>\n",
       "      <td>35.38</td>\n",
       "      <td>...</td>\n",
       "      <td>26.86</td>\n",
       "      <td>10.88</td>\n",
       "      <td>24.85</td>\n",
       "      <td>59.08</td>\n",
       "      <td>47.23</td>\n",
       "      <td>61.40</td>\n",
       "      <td>56.80</td>\n",
       "      <td>31.48</td>\n",
       "      <td>45.71</td>\n",
       "      <td>59.40</td>\n",
       "    </tr>\n",
       "    <tr>\n",
       "      <th>...</th>\n",
       "      <td>...</td>\n",
       "      <td>...</td>\n",
       "      <td>...</td>\n",
       "      <td>...</td>\n",
       "      <td>...</td>\n",
       "      <td>...</td>\n",
       "      <td>...</td>\n",
       "      <td>...</td>\n",
       "      <td>...</td>\n",
       "      <td>...</td>\n",
       "      <td>...</td>\n",
       "      <td>...</td>\n",
       "      <td>...</td>\n",
       "      <td>...</td>\n",
       "      <td>...</td>\n",
       "      <td>...</td>\n",
       "      <td>...</td>\n",
       "      <td>...</td>\n",
       "      <td>...</td>\n",
       "      <td>...</td>\n",
       "      <td>...</td>\n",
       "    </tr>\n",
       "    <tr>\n",
       "      <th>3015</th>\n",
       "      <td>71.58</td>\n",
       "      <td>175.01</td>\n",
       "      <td>1168.36</td>\n",
       "      <td>98.74</td>\n",
       "      <td>295.10</td>\n",
       "      <td>155.75</td>\n",
       "      <td>38.55</td>\n",
       "      <td>124.98</td>\n",
       "      <td>108.67</td>\n",
       "      <td>17.50</td>\n",
       "      <td>...</td>\n",
       "      <td>85.51</td>\n",
       "      <td>63.29</td>\n",
       "      <td>36.14</td>\n",
       "      <td>92.13</td>\n",
       "      <td>134.39</td>\n",
       "      <td>220.00</td>\n",
       "      <td>127.23</td>\n",
       "      <td>53.19</td>\n",
       "      <td>98.21</td>\n",
       "      <td>83.97</td>\n",
       "    </tr>\n",
       "    <tr>\n",
       "      <th>3016</th>\n",
       "      <td>69.86</td>\n",
       "      <td>170.57</td>\n",
       "      <td>1176.76</td>\n",
       "      <td>98.57</td>\n",
       "      <td>295.36</td>\n",
       "      <td>156.44</td>\n",
       "      <td>38.48</td>\n",
       "      <td>125.98</td>\n",
       "      <td>108.12</td>\n",
       "      <td>17.43</td>\n",
       "      <td>...</td>\n",
       "      <td>85.40</td>\n",
       "      <td>63.65</td>\n",
       "      <td>36.21</td>\n",
       "      <td>92.48</td>\n",
       "      <td>134.78</td>\n",
       "      <td>219.60</td>\n",
       "      <td>127.14</td>\n",
       "      <td>53.22</td>\n",
       "      <td>99.16</td>\n",
       "      <td>83.98</td>\n",
       "    </tr>\n",
       "    <tr>\n",
       "      <th>3017</th>\n",
       "      <td>70.06</td>\n",
       "      <td>170.60</td>\n",
       "      <td>1182.26</td>\n",
       "      <td>99.13</td>\n",
       "      <td>295.62</td>\n",
       "      <td>157.52</td>\n",
       "      <td>38.56</td>\n",
       "      <td>125.55</td>\n",
       "      <td>107.64</td>\n",
       "      <td>17.38</td>\n",
       "      <td>...</td>\n",
       "      <td>85.71</td>\n",
       "      <td>62.95</td>\n",
       "      <td>36.33</td>\n",
       "      <td>92.10</td>\n",
       "      <td>134.77</td>\n",
       "      <td>220.42</td>\n",
       "      <td>127.58</td>\n",
       "      <td>53.28</td>\n",
       "      <td>99.26</td>\n",
       "      <td>83.90</td>\n",
       "    </tr>\n",
       "    <tr>\n",
       "      <th>3018</th>\n",
       "      <td>69.82</td>\n",
       "      <td>171.08</td>\n",
       "      <td>1186.10</td>\n",
       "      <td>99.70</td>\n",
       "      <td>296.35</td>\n",
       "      <td>158.42</td>\n",
       "      <td>38.59</td>\n",
       "      <td>125.58</td>\n",
       "      <td>107.77</td>\n",
       "      <td>17.36</td>\n",
       "      <td>...</td>\n",
       "      <td>85.72</td>\n",
       "      <td>62.95</td>\n",
       "      <td>36.37</td>\n",
       "      <td>92.07</td>\n",
       "      <td>135.66</td>\n",
       "      <td>222.77</td>\n",
       "      <td>128.12</td>\n",
       "      <td>53.43</td>\n",
       "      <td>99.40</td>\n",
       "      <td>84.02</td>\n",
       "    </tr>\n",
       "    <tr>\n",
       "      <th>3019</th>\n",
       "      <td>69.85</td>\n",
       "      <td>169.23</td>\n",
       "      <td>1169.47</td>\n",
       "      <td>99.31</td>\n",
       "      <td>294.91</td>\n",
       "      <td>157.58</td>\n",
       "      <td>38.30</td>\n",
       "      <td>125.19</td>\n",
       "      <td>107.51</td>\n",
       "      <td>17.45</td>\n",
       "      <td>...</td>\n",
       "      <td>85.54</td>\n",
       "      <td>62.55</td>\n",
       "      <td>36.22</td>\n",
       "      <td>91.88</td>\n",
       "      <td>135.64</td>\n",
       "      <td>220.46</td>\n",
       "      <td>127.57</td>\n",
       "      <td>52.93</td>\n",
       "      <td>98.75</td>\n",
       "      <td>83.64</td>\n",
       "    </tr>\n",
       "  </tbody>\n",
       "</table>\n",
       "<p>3020 rows × 31 columns</p>\n",
       "</div>"
      ],
      "text/plain": [
       "       AABA    AAPL     AMZN    AXP      BA     CAT   CSCO     CVX     DIS  \\\n",
       "0     40.91   10.68    47.58  52.58   70.44   57.80  17.45   59.08   24.40   \n",
       "1     40.97   10.71    47.25  51.95   71.17   59.27  17.85   58.91   23.99   \n",
       "2     41.53   10.63    47.65  52.50   70.33   59.27  18.35   58.19   24.41   \n",
       "3     43.21   10.90    47.87  52.68   69.35   60.45  18.77   59.25   24.74   \n",
       "4     43.42   10.86    47.08  53.99   68.77   61.55  19.06   58.95   25.00   \n",
       "...     ...     ...      ...    ...     ...     ...    ...     ...     ...   \n",
       "3015  71.58  175.01  1168.36  98.74  295.10  155.75  38.55  124.98  108.67   \n",
       "3016  69.86  170.57  1176.76  98.57  295.36  156.44  38.48  125.98  108.12   \n",
       "3017  70.06  170.60  1182.26  99.13  295.62  157.52  38.56  125.55  107.64   \n",
       "3018  69.82  171.08  1186.10  99.70  296.35  158.42  38.59  125.58  107.77   \n",
       "3019  69.85  169.23  1169.47  99.31  294.91  157.58  38.30  125.19  107.51   \n",
       "\n",
       "         GE  ...   MSFT    NKE    PFE     PG     TRV     UNH     UTX     VZ  \\\n",
       "0     35.37  ...  26.84  10.74  23.78  58.78   45.99   61.73   56.53  30.38   \n",
       "1     35.32  ...  26.97  10.69  24.55  58.89   46.50   61.88   56.19  31.27   \n",
       "2     35.23  ...  26.99  10.76  24.58  58.70   46.95   61.69   55.98  31.63   \n",
       "3     35.47  ...  26.91  10.72  24.85  58.64   47.21   62.90   56.16  31.35   \n",
       "4     35.38  ...  26.86  10.88  24.85  59.08   47.23   61.40   56.80  31.48   \n",
       "...     ...  ...    ...    ...    ...    ...     ...     ...     ...    ...   \n",
       "3015  17.50  ...  85.51  63.29  36.14  92.13  134.39  220.00  127.23  53.19   \n",
       "3016  17.43  ...  85.40  63.65  36.21  92.48  134.78  219.60  127.14  53.22   \n",
       "3017  17.38  ...  85.71  62.95  36.33  92.10  134.77  220.42  127.58  53.28   \n",
       "3018  17.36  ...  85.72  62.95  36.37  92.07  135.66  222.77  128.12  53.43   \n",
       "3019  17.45  ...  85.54  62.55  36.22  91.88  135.64  220.46  127.57  52.93   \n",
       "\n",
       "        WMT    XOM  \n",
       "0     46.23  58.47  \n",
       "1     46.32  58.57  \n",
       "2     45.69  58.28  \n",
       "3     45.88  59.43  \n",
       "4     45.71  59.40  \n",
       "...     ...    ...  \n",
       "3015  98.21  83.97  \n",
       "3016  99.16  83.98  \n",
       "3017  99.26  83.90  \n",
       "3018  99.40  84.02  \n",
       "3019  98.75  83.64  \n",
       "\n",
       "[3020 rows x 31 columns]"
      ]
     },
     "execution_count": 3,
     "metadata": {},
     "output_type": "execute_result"
    }
   ],
   "source": [
    "# Read data\n",
    "# Import the data as a dataframe (2D data structure with labelled axes)\n",
    "\n",
    "df = pd.read_csv('financial_data/dataset-djia-2018-subset2.csv')\n",
    "dates = pd.to_datetime(df['Date']) # set dates as the Date of closing price column\n",
    "\n",
    "\n",
    "del df['Date'] # delete Date column\n",
    "\n",
    "# Fill missing values\n",
    "df.ffill(inplace=True)\n",
    "df"
   ]
  },
  {
   "cell_type": "code",
   "execution_count": 4,
   "id": "959df354",
   "metadata": {},
   "outputs": [],
   "source": [
    "# Google and amazon are not in DJIA list\n",
    "\n",
    "ten_companies = ['AAPL','MSFT', 'JPM', 'GS', 'PFE', 'MRK','NKE', 'HD',  'GOOGL','AMZN']\n",
    "\n",
    "\n",
    "ticker_id = [] # collect integer marker of each stock, index correspodns to stock AABA, 1 correponds to stock AAPL\n",
    "ticker = []\n",
    "ticker_dict = {} # collect key-value pairs where key represents tikcer of a stock and it's corresponding value an integer marker\n",
    "\n",
    "\n",
    "for u,col in enumerate(df[ten_companies]):\n",
    "    ticker_dict[col] = u\n",
    "    ticker_id += [u]\n",
    "    ticker += [col]"
   ]
  },
  {
   "cell_type": "markdown",
   "id": "ac51c8c3",
   "metadata": {},
   "source": [
    "### Collect relevant data such as event times (largest $10 \\%$ price drop, only include days were return was below 10% quantile), markers,..."
   ]
  },
  {
   "cell_type": "code",
   "execution_count": 78,
   "id": "ee909dbd",
   "metadata": {},
   "outputs": [],
   "source": [
    "# Collect event times\n",
    "\n",
    "t_i=[]\n",
    "u_i=[] # collect marker for each event times\n",
    "\n",
    "ticker_id = [] # collect integer marker of each stock, index correspodns to stock AABA, 1 correponds to stock AAPL\n",
    "ticker = []\n",
    "ticker_dict = {} # collect key-value pairs where key represents tikcer of a stock and it's corresponding value an integer marker\n",
    "\n",
    "\n",
    "for u,col in enumerate(df[ten_companies]):\n",
    "    Tdiff = df[col].diff()\n",
    "    timestamps=dates[Tdiff<=Tdiff.quantile(0.1)] # return timestamps where subsequent price difference was less than 10% quantile\n",
    "    t_i.extend((timestamps - pd.Timestamp(2006,1,3)).dt.days.astype(float)) # measure time \n",
    "    u_i.extend(np.repeat(u,len(timestamps)))\n",
    "    ticker_dict[col] = u\n",
    "    ticker_id += [u]\n",
    "    ticker += [col]\n",
    "\n",
    "t_i = np.array(t_i)\n",
    "#t_i=np.array(t_i)+np.random.rand(len(t_i))\n",
    "u_i=np.array(u_i)\n",
    "perm = np.argsort(t_i)\n",
    "t_i = t_i[perm] # superposed timestamps\n",
    "u_i = u_i[perm]"
   ]
  },
  {
   "cell_type": "code",
   "execution_count": null,
   "id": "c875e5aa",
   "metadata": {},
   "outputs": [],
   "source": []
  },
  {
   "cell_type": "code",
   "execution_count": 79,
   "id": "5c3d9394",
   "metadata": {},
   "outputs": [],
   "source": [
    "tstamps_ten_univ = []\n",
    "tstamps_ten_univ_dates = []\n",
    "\n",
    "count = 0\n",
    "for i in ticker:\n",
    "    tdiff_i = df[i].diff()\n",
    "    tstamps_ten_univ_dates += [dates[tdiff_i<=tdiff_i.quantile(0.1)]]\n",
    "    tstamps_i = (tstamps_ten_univ_dates[count] - pd.Timestamp(2006,1,3)).dt.days.astype(float) # change time units from days to months\n",
    "    tstamps_ten_univ += [tstamps_i]\n",
    "    count += 1"
   ]
  },
  {
   "cell_type": "code",
   "execution_count": 80,
   "id": "b1e0e7a2",
   "metadata": {},
   "outputs": [],
   "source": [
    "ts_i_with_dates = []\n",
    "for i in range(len(ten_companies)):\n",
    "    ts_i_with_dates += [pd.DataFrame({'Date': tstamps_ten_univ_dates[i].values, 'event time': tstamps_ten_univ[i].values})]\n",
    "    #ts_i_with_dates[i].to_csv('ten_stocks_event_times/'+ten_companies[i]+'_ts_with_dates.csv', index=None)"
   ]
  },
  {
   "cell_type": "code",
   "execution_count": 83,
   "id": "e44cce18",
   "metadata": {},
   "outputs": [
    {
     "name": "stdout",
     "output_type": "stream",
     "text": [
      "number of events of stock AAPL: 303\n",
      "average time between each event of 'type' AAPL: 14.448844884488448\n",
      "number of events of stock MSFT: 305\n",
      "average time between each event of 'type' MSFT: 14.321311475409836\n",
      "number of events of stock JPM: 302\n",
      "average time between each event of 'type' JPM: 14.443708609271523\n",
      "number of events of stock GS: 303\n",
      "average time between each event of 'type' GS: 14.415841584158416\n",
      "number of events of stock PFE: 303\n",
      "average time between each event of 'type' PFE: 14.41914191419142\n",
      "number of events of stock MRK: 304\n",
      "average time between each event of 'type' MRK: 14.351973684210526\n",
      "number of events of stock NKE: 302\n",
      "average time between each event of 'type' NKE: 14.490066225165563\n",
      "number of events of stock HD: 302\n",
      "average time between each event of 'type' HD: 14.437086092715232\n",
      "number of events of stock GOOGL: 302\n",
      "average time between each event of 'type' GOOGL: 14.413907284768213\n",
      "number of events of stock AMZN: 302\n",
      "average time between each event of 'type' AMZN: 14.496688741721854\n",
      "\n",
      "Total number of total events for 10 companies:  3028\n",
      "Average number of total events for 10 companies:  302.8\n",
      "Average time between each event for 10 companies:  14.423857049610103\n"
     ]
    }
   ],
   "source": [
    "avg1 = 0\n",
    "avg2 = 0\n",
    "\n",
    "for i in ticker:\n",
    "    total_events = t_i[np.where(u_i == ticker_dict[i])].shape[0]\n",
    "    print(f'number of events of stock '+i+':', total_events)\n",
    "    print(f'average time between each event of \\'type\\' '+i+':', t_i[np.where(u_i == ticker_dict[i])][-1]/total_events)\n",
    "    avg1 += total_events\n",
    "    avg2 += t_i[np.where(u_i == ticker_dict[i])][-1]/total_events\n",
    "print('')\n",
    "print(f'Total number of total events for 10 companies: ',avg1)\n",
    "\n",
    "print(f'Average number of total events for 10 companies: ',avg1/10)\n",
    "print(f'Average time between each event for 10 companies: ',avg2/10)"
   ]
  },
  {
   "cell_type": "markdown",
   "id": "f1cd87b3",
   "metadata": {},
   "source": [
    "### Reshape timestamps and marker data for largest $10 \\%$ price-jumps into the form of Steve Morse's EM code, and convert unit of time from days to months, i.e. scale each event times by 30"
   ]
  },
  {
   "cell_type": "code",
   "execution_count": 11,
   "id": "0f6fe5e2",
   "metadata": {},
   "outputs": [],
   "source": [
    "data = []\n",
    "counter = 0\n",
    "for t,u in zip(t_i, u_i):\n",
    "    data.append([])\n",
    "    data[counter] += [t/30, np.array([u], dtype='int')]\n",
    "    counter += 1\n",
    "\n",
    "\n",
    "data = np.array(data)"
   ]
  },
  {
   "cell_type": "code",
   "execution_count": 12,
   "id": "73e8e14d",
   "metadata": {},
   "outputs": [
    {
     "data": {
      "text/plain": [
       "array([[0.23333333333333334, array([4])],\n",
       "       [0.4666666666666667, array([4])],\n",
       "       [0.5, array([8])],\n",
       "       ...,\n",
       "       [145.86666666666667, array([6])],\n",
       "       [145.93333333333334, array([0])],\n",
       "       [145.93333333333334, array([9])]], dtype=object)"
      ]
     },
     "execution_count": 12,
     "metadata": {},
     "output_type": "execute_result"
    }
   ],
   "source": [
    "data"
   ]
  },
  {
   "cell_type": "code",
   "execution_count": null,
   "id": "03c9e782",
   "metadata": {},
   "outputs": [],
   "source": []
  },
  {
   "cell_type": "markdown",
   "id": "2c74a814",
   "metadata": {},
   "source": [
    "### Collect relevant data such as event times (largest 15% price drop, only include days were return was below 15% quantile), markers,..."
   ]
  },
  {
   "cell_type": "code",
   "execution_count": 65,
   "id": "8b9253f9",
   "metadata": {},
   "outputs": [],
   "source": [
    "# Collect event times\n",
    "\n",
    "t_i=[]\n",
    "u_i=[] # collect marker for each event times\n",
    "\n",
    "ticker_id = [] # collect integer marker of each stock, index correspodns to stock AABA, 1 correponds to stock AAPL\n",
    "ticker = []\n",
    "ticker_dict = {} # collect key-value pairs where key represents tikcer of a stock and it's corresponding value an integer marker\n",
    "\n",
    "\n",
    "for u,col in enumerate(df[ten_companies]):\n",
    "    Tdiff = df[col].diff()\n",
    "    timestamps=dates[Tdiff<=Tdiff.quantile(0.15)] # return timestamps where subsequent price difference was less than 10% quantile\n",
    "    t_i.extend((timestamps - pd.Timestamp(2006,1,3)).dt.days.astype(float)) # measure time \n",
    "    u_i.extend(np.repeat(u,len(timestamps)))\n",
    "    ticker_dict[col] = u\n",
    "    ticker_id += [u]\n",
    "    ticker += [col]\n",
    "\n",
    "t_i = np.array(t_i)\n",
    "#t_i=np.array(t_i)+np.random.rand(len(t_i))\n",
    "u_i=np.array(u_i)\n",
    "perm = np.argsort(t_i)\n",
    "t_i = t_i[perm] # superposed timestamps\n",
    "u_i = u_i[perm]"
   ]
  },
  {
   "cell_type": "code",
   "execution_count": null,
   "id": "18ddebeb",
   "metadata": {},
   "outputs": [],
   "source": []
  },
  {
   "cell_type": "code",
   "execution_count": 66,
   "id": "3d1fef9b",
   "metadata": {},
   "outputs": [],
   "source": [
    "tstamps_ten_univ = []\n",
    "tstamps_ten_univ_dates = []\n",
    "\n",
    "count = 0\n",
    "for i in ticker:\n",
    "    tdiff_i = df[i].diff()\n",
    "    tstamps_ten_univ_dates += [dates[tdiff_i<=tdiff_i.quantile(0.15)]]\n",
    "    tstamps_i = (tstamps_ten_univ_dates[count] - pd.Timestamp(2006,1,3)).dt.days.astype(float) # change time units from days to months\n",
    "    tstamps_ten_univ += [tstamps_i]\n",
    "    count += 1"
   ]
  },
  {
   "cell_type": "code",
   "execution_count": 67,
   "id": "c6f4d75a",
   "metadata": {},
   "outputs": [],
   "source": [
    "ts_i_with_dates = []\n",
    "for i in range(len(ten_companies)):\n",
    "    ts_i_with_dates += [pd.DataFrame({'Date': tstamps_ten_univ_dates[i].values, 'event time': tstamps_ten_univ[i].values})]\n",
    "    #ts_i_with_dates[i].to_csv('ten_stocks_event_times/'+ten_companies[i]+'_ts_with_dates.csv', index=None)"
   ]
  },
  {
   "cell_type": "code",
   "execution_count": 68,
   "id": "323ba21c",
   "metadata": {},
   "outputs": [
    {
     "name": "stdout",
     "output_type": "stream",
     "text": [
      "0       380.0\n",
      "1       567.0\n",
      "2       574.0\n",
      "3       583.0\n",
      "4       602.0\n",
      "        ...  \n",
      "453    4353.0\n",
      "454    4361.0\n",
      "455    4368.0\n",
      "456    4375.0\n",
      "457    4378.0\n",
      "Name: event time, Length: 458, dtype: float64\n"
     ]
    }
   ],
   "source": [
    "print(ts_i_with_dates[0]['event time'])"
   ]
  },
  {
   "cell_type": "code",
   "execution_count": 71,
   "id": "77f60e5d",
   "metadata": {},
   "outputs": [
    {
     "name": "stdout",
     "output_type": "stream",
     "text": [
      "number of events of stock AAPL: 458\n",
      "average time between each event of 'type' AAPL: 9.558951965065502\n",
      "number of events of stock MSFT: 455\n",
      "average time between each event of 'type' MSFT: 9.6\n",
      "number of events of stock JPM: 453\n",
      "average time between each event of 'type' JPM: 9.664459161147903\n",
      "number of events of stock GS: 454\n",
      "average time between each event of 'type' GS: 9.62114537444934\n",
      "number of events of stock PFE: 453\n",
      "average time between each event of 'type' PFE: 9.64459161147903\n",
      "number of events of stock MRK: 453\n",
      "average time between each event of 'type' MRK: 9.631346578366445\n",
      "number of events of stock NKE: 455\n",
      "average time between each event of 'type' NKE: 9.621978021978022\n",
      "number of events of stock HD: 453\n",
      "average time between each event of 'type' HD: 9.631346578366445\n",
      "number of events of stock GOOGL: 453\n",
      "average time between each event of 'type' GOOGL: 9.660044150110375\n",
      "number of events of stock AMZN: 453\n",
      "average time between each event of 'type' AMZN: 9.664459161147903\n",
      "\n",
      "Total number of total events for 10 companies:  4540\n",
      "Average number of total events for 10 companies:  454.0\n",
      "Average time between each event for 10 companies:  9.629832260211098\n"
     ]
    }
   ],
   "source": [
    "avg1 = 0\n",
    "avg2 = 0\n",
    "\n",
    "for i in ticker:\n",
    "    total_events = t_i[np.where(u_i == ticker_dict[i])].shape[0]\n",
    "    print(f'number of events of stock '+i+':', total_events)\n",
    "    print(f'average time between each event of \\'type\\' '+i+':', t_i[np.where(u_i == ticker_dict[i])][-1]/total_events)\n",
    "    avg1 += total_events\n",
    "    avg2 += t_i[np.where(u_i == ticker_dict[i])][-1]/total_events\n",
    "print('')\n",
    "print(f'Total number of total events for 10 companies: ',avg1)\n",
    "\n",
    "print(f'Average number of total events for 10 companies: ',avg1/10)\n",
    "print(f'Average time between each event for 10 companies: ',avg2/10)"
   ]
  },
  {
   "cell_type": "markdown",
   "id": "9633e3ba",
   "metadata": {},
   "source": [
    "### Collect relevant data such as event times (largest 20% price drop, only include days were return was below 20% quantile), markers,..."
   ]
  },
  {
   "cell_type": "code",
   "execution_count": 72,
   "id": "815f06db",
   "metadata": {},
   "outputs": [],
   "source": [
    "# Collect event times\n",
    "\n",
    "t_i=[]\n",
    "u_i=[] # collect marker for each event times\n",
    "\n",
    "ticker_id = [] # collect integer marker of each stock, index correspodns to stock AABA, 1 correponds to stock AAPL\n",
    "ticker = []\n",
    "ticker_dict = {} # collect key-value pairs where key represents tikcer of a stock and it's corresponding value an integer marker\n",
    "\n",
    "\n",
    "for u,col in enumerate(df[ten_companies]):\n",
    "    Tdiff = df[col].diff()\n",
    "    timestamps=dates[Tdiff<=Tdiff.quantile(0.2)] # return timestamps where subsequent price difference was less than 10% quantile\n",
    "    t_i.extend((timestamps - pd.Timestamp(2006,1,3)).dt.days.astype(float)) # measure time \n",
    "    u_i.extend(np.repeat(u,len(timestamps)))\n",
    "    ticker_dict[col] = u\n",
    "    ticker_id += [u]\n",
    "    ticker += [col]\n",
    "\n",
    "t_i = np.array(t_i)\n",
    "#t_i=np.array(t_i)+np.random.rand(len(t_i))\n",
    "u_i=np.array(u_i)\n",
    "perm = np.argsort(t_i)\n",
    "t_i = t_i[perm] # superposed timestamps\n",
    "u_i = u_i[perm]"
   ]
  },
  {
   "cell_type": "code",
   "execution_count": null,
   "id": "ce6eb15c",
   "metadata": {},
   "outputs": [],
   "source": []
  },
  {
   "cell_type": "code",
   "execution_count": 73,
   "id": "9d90cf42",
   "metadata": {},
   "outputs": [],
   "source": [
    "tstamps_ten_univ = []\n",
    "tstamps_ten_univ_dates = []\n",
    "\n",
    "count = 0\n",
    "for i in ticker:\n",
    "    tdiff_i = df[i].diff()\n",
    "    tstamps_ten_univ_dates += [dates[tdiff_i<=tdiff_i.quantile(0.2)]]\n",
    "    tstamps_i = (tstamps_ten_univ_dates[count] - pd.Timestamp(2006,1,3)).dt.days.astype(float) # change time units from days to months\n",
    "    tstamps_ten_univ += [tstamps_i]\n",
    "    count += 1"
   ]
  },
  {
   "cell_type": "code",
   "execution_count": 74,
   "id": "a56fd038",
   "metadata": {},
   "outputs": [],
   "source": [
    "ts_i_with_dates = []\n",
    "for i in range(len(ten_companies)):\n",
    "    ts_i_with_dates += [pd.DataFrame({'Date': tstamps_ten_univ_dates[i].values, 'event time': tstamps_ten_univ[i].values})]\n",
    "    #ts_i_with_dates[i].to_csv('ten_stocks_event_times/'+ten_companies[i]+'_ts_with_dates.csv', index=None)"
   ]
  },
  {
   "cell_type": "code",
   "execution_count": 75,
   "id": "948b1cb5",
   "metadata": {},
   "outputs": [
    {
     "name": "stdout",
     "output_type": "stream",
     "text": [
      "0        34.0\n",
      "1        37.0\n",
      "2       380.0\n",
      "3       420.0\n",
      "4       524.0\n",
      "        ...  \n",
      "608    4355.0\n",
      "609    4361.0\n",
      "610    4368.0\n",
      "611    4375.0\n",
      "612    4378.0\n",
      "Name: event time, Length: 613, dtype: float64\n"
     ]
    }
   ],
   "source": [
    "print(ts_i_with_dates[0]['event time'])"
   ]
  },
  {
   "cell_type": "code",
   "execution_count": 77,
   "id": "05e9c66f",
   "metadata": {},
   "outputs": [
    {
     "name": "stdout",
     "output_type": "stream",
     "text": [
      "number of events of stock AAPL: 613\n",
      "average time between each event of 'type' AAPL: 7.141924959216966\n",
      "number of events of stock MSFT: 604\n",
      "average time between each event of 'type' MSFT: 7.231788079470198\n",
      "number of events of stock JPM: 613\n",
      "average time between each event of 'type' JPM: 7.141924959216966\n",
      "number of events of stock GS: 605\n",
      "average time between each event of 'type' GS: 7.224793388429752\n",
      "number of events of stock PFE: 610\n",
      "average time between each event of 'type' PFE: 7.163934426229508\n",
      "number of events of stock MRK: 604\n",
      "average time between each event of 'type' MRK: 7.223509933774834\n",
      "number of events of stock NKE: 611\n",
      "average time between each event of 'type' NKE: 7.1653027823240585\n",
      "number of events of stock HD: 606\n",
      "average time between each event of 'type' HD: 7.1996699669967\n",
      "number of events of stock GOOGL: 605\n",
      "average time between each event of 'type' GOOGL: 7.234710743801653\n",
      "number of events of stock AMZN: 604\n",
      "average time between each event of 'type' AMZN: 7.248344370860927\n",
      "\n",
      "Total number of total events for 10 companies:  6075\n",
      "Average number of total events for 10 companies:  607.5\n",
      "Average time between each event for 10 companies:  7.197590361032155\n"
     ]
    }
   ],
   "source": [
    "avg1 = 0\n",
    "avg2 = 0\n",
    "\n",
    "for i in ticker:\n",
    "    total_events = t_i[np.where(u_i == ticker_dict[i])].shape[0]\n",
    "    print(f'number of events of stock '+i+':', total_events)\n",
    "    print(f'average time between each event of \\'type\\' '+i+':', t_i[np.where(u_i == ticker_dict[i])][-1]/total_events)\n",
    "    avg1 += total_events\n",
    "    avg2 += t_i[np.where(u_i == ticker_dict[i])][-1]/total_events\n",
    "print('')\n",
    "\n",
    "print(f'Total number of total events for 10 companies: ',avg1)\n",
    "\n",
    "print(f'Average number of total events for 10 companies: ',avg1/10)\n",
    "print(f'Average time between each event for 10 companies: ',avg2/10)"
   ]
  },
  {
   "cell_type": "markdown",
   "id": "bf20b384",
   "metadata": {},
   "source": [
    "# I havent saved data where time is measured in months instead of days"
   ]
  },
  {
   "cell_type": "code",
   "execution_count": 106,
   "id": "6ab2744e",
   "metadata": {},
   "outputs": [],
   "source": [
    "pd.DataFrame(data, columns=['event time','node']).to_csv('multivariate_ts_data.csv', index=None)"
   ]
  },
  {
   "cell_type": "code",
   "execution_count": 98,
   "id": "56d0feca",
   "metadata": {},
   "outputs": [],
   "source": [
    "node = 0\n",
    "ts_col = [np.array([])]\n",
    "for i in range(len(ticker)):\n",
    "    ts_col = np.append(ts_col, data[np.where(data[:,1] == node)][:,0])\n",
    "    node += 1\n"
   ]
  },
  {
   "cell_type": "code",
   "execution_count": 134,
   "id": "07f92e08",
   "metadata": {},
   "outputs": [],
   "source": [
    "node = 0\n",
    "ts_col = []\n",
    "for i in range(len(ticker)):\n",
    "    ts_col += [data[np.where(data[:,1] == node)][:,0].flatten()]\n",
    "    node += 1"
   ]
  },
  {
   "cell_type": "code",
   "execution_count": 135,
   "id": "548b47f6",
   "metadata": {},
   "outputs": [],
   "source": [
    "ts_col = np.array(ts_col)"
   ]
  },
  {
   "cell_type": "code",
   "execution_count": 142,
   "id": "1821bb16",
   "metadata": {},
   "outputs": [
    {
     "name": "stdout",
     "output_type": "stream",
     "text": [
      "['AAPL', 'MSFT', 'JPM', 'GS', 'PFE', 'MRK', 'NKE', 'HD', 'GOOGL', 'AMZN']\n"
     ]
    }
   ],
   "source": [
    "print(ticker)"
   ]
  },
  {
   "cell_type": "code",
   "execution_count": 145,
   "id": "b0ee2d99",
   "metadata": {},
   "outputs": [],
   "source": [
    "pd.DataFrame(data[np.where(data[:,1] == 4)][:,0], columns=['event time']).to_csv('Pfizer_ts_data.csv', index=False)"
   ]
  },
  {
   "cell_type": "markdown",
   "id": "5065b1d4",
   "metadata": {},
   "source": []
  },
  {
   "cell_type": "code",
   "execution_count": 8,
   "id": "3a592a53",
   "metadata": {
    "scrolled": true
   },
   "outputs": [
    {
     "data": {
      "application/vnd.jupyter.widget-view+json": {
       "model_id": "0a291dba96874cf685e24d308bc450aa",
       "version_major": 2,
       "version_minor": 0
      },
      "text/plain": [
       "Canvas(toolbar=Toolbar(toolitems=[('Home', 'Reset original view', 'home', 'home'), ('Back', 'Back to previous …"
      ]
     },
     "metadata": {},
     "output_type": "display_data"
    },
    {
     "name": "stdout",
     "output_type": "stream",
     "text": [
      "[ 0 -1 -2 -3 -4 -5 -6 -7 -8 -9]\n",
      "['AAPL', 'MSFT', 'JPM', 'GS', 'PFE', 'MRK', 'NKE', 'HD', 'GOOGL', 'AMZN']\n"
     ]
    }
   ],
   "source": [
    "HP.plot_event_times(data, num_of_nodes=10,  Time_horizon=-999, company_ticker=ticker, xaxislabel=r't, number of days since January 3, 2006', show_time_periods=False, labeled=True)\n",
    "# plt.show()\n",
    "plt.ion()"
   ]
  },
  {
   "cell_type": "markdown",
   "id": "8651b0a4",
   "metadata": {},
   "source": [
    "### 20% drop"
   ]
  },
  {
   "cell_type": "code",
   "execution_count": 10,
   "id": "a6acc874",
   "metadata": {},
   "outputs": [
    {
     "name": "stdout",
     "output_type": "stream",
     "text": [
      "number of events of stock AAPL: 604\n",
      "average time between each event of 'type' AAPL:\n",
      "7.245 days\n",
      "number of events of stock MSFT: 604\n",
      "average time between each event of 'type' MSFT:\n",
      "7.207 days\n",
      "number of events of stock JPM: 604\n",
      "average time between each event of 'type' JPM:\n",
      "7.223 days\n",
      "number of events of stock GS: 604\n",
      "average time between each event of 'type' GS:\n",
      "7.233 days\n",
      "number of events of stock PFE: 604\n",
      "average time between each event of 'type' PFE:\n",
      "7.234 days\n",
      "number of events of stock MRK: 604\n",
      "average time between each event of 'type' MRK:\n",
      "7.225 days\n",
      "number of events of stock NKE: 604\n",
      "average time between each event of 'type' NKE:\n",
      "7.246 days\n",
      "number of events of stock HD: 604\n",
      "average time between each event of 'type' HD:\n",
      "7.211 days\n",
      "number of events of stock GOOGL: 604\n",
      "average time between each event of 'type' GOOGL:\n",
      "7.208 days\n",
      "number of events of stock AMZN: 604\n",
      "average time between each event of 'type' AMZN:\n",
      "7.249 days\n"
     ]
    }
   ],
   "source": [
    "# Collect event times\n",
    "\n",
    "t_i20=[]\n",
    "u_i20=[] # collect marker for each event times\n",
    "\n",
    "ticker_id = [] # collect integer marker of each stock, index correspodns to stock AABA, 1 correponds to stock AAPL\n",
    "ticker = []\n",
    "ticker_dict = {} # collect key-value pairs where key represents tikcer of a stock and it's corresponding value an integer marker\n",
    "\n",
    "\n",
    "for u,col in enumerate(df[ten_companies]):\n",
    "    Tdiff = np.log(df[col]).diff()\n",
    "    timestamps=dates[Tdiff<=Tdiff.quantile(0.2)] # return timestamps where subsequent price difference was less than 0.2\n",
    "    t_i20.extend((timestamps - pd.Timestamp(2006,1,3)).dt.days.astype(float))\n",
    "    u_i20.extend(np.repeat(u,len(timestamps)))\n",
    "    ticker_dict[col] = u\n",
    "    ticker_id += [u]\n",
    "    ticker += [col]\n",
    "\n",
    "\n",
    "t_i20=np.array(t_i20)+np.random.rand(len(t_i20))\n",
    "u_i20=np.array(u_i20)\n",
    "perm = np.argsort(t_i20)\n",
    "t_i20 = t_i20[perm] # superposed timestamps\n",
    "u_i20 = u_i20[perm]\n",
    "\n",
    "\n",
    "\n",
    "for i in ticker:\n",
    "    total_events = t_i20[np.where(u_i20 == ticker_dict[i])].shape[0]\n",
    "    print(f'number of events of stock '+i+':', total_events)\n",
    "    avg = t_i20[np.where(u_i20 == ticker_dict[i])][-1]/total_events\n",
    "    print(f'average time between each event of \\'type\\' '+i+':')\n",
    "    print(r'%.3f days' % avg)"
   ]
  },
  {
   "cell_type": "markdown",
   "id": "8e38e080",
   "metadata": {},
   "source": [
    "### 90% price jump"
   ]
  },
  {
   "cell_type": "code",
   "execution_count": 11,
   "id": "efc3d92c",
   "metadata": {},
   "outputs": [
    {
     "name": "stdout",
     "output_type": "stream",
     "text": [
      "number of events of stock AAPL: 303\n",
      "average time between each event of 'type' AAPL: 14.414080194724823\n",
      "number of events of stock MSFT: 303\n",
      "average time between each event of 'type' MSFT: 14.403819918473534\n",
      "number of events of stock JPM: 304\n",
      "average time between each event of 'type' JPM: 14.375039087571116\n",
      "number of events of stock GS: 302\n",
      "average time between each event of 'type' GS: 14.471115837880753\n",
      "number of events of stock PFE: 306\n",
      "average time between each event of 'type' PFE: 14.262688718931082\n",
      "number of events of stock MRK: 303\n",
      "average time between each event of 'type' MRK: 14.39595108595655\n",
      "number of events of stock NKE: 304\n",
      "average time between each event of 'type' NKE: 14.376841098160119\n",
      "number of events of stock HD: 302\n",
      "average time between each event of 'type' HD: 14.489696643966676\n",
      "number of events of stock GOOGL: 302\n",
      "average time between each event of 'type' GOOGL: 14.461547275605175\n",
      "number of events of stock AMZN: 302\n",
      "average time between each event of 'type' AMZN: 14.488971677714533\n"
     ]
    }
   ],
   "source": [
    "# Collect event times\n",
    "\n",
    "t_i90=[]\n",
    "u_i90=[] # collect marker for each event times\n",
    "\n",
    "ticker_id = [] # collect integer marker of each stock, index correspodns to stock AABA, 1 correponds to stock AAPL\n",
    "ticker = []\n",
    "ticker_dict = {} # collect key-value pairs where key represents tikcer of a stock and it's corresponding value an integer marker\n",
    "\n",
    "\n",
    "for u,col in enumerate(df[ten_companies]):\n",
    "    Tdiff = (df[col]).diff()\n",
    "    timestamps=dates[Tdiff>=Tdiff.quantile(0.9)] # return timestamps where subsequent price difference was less than 0.2\n",
    "    t_i90.extend((timestamps - pd.Timestamp(2006,1,3)).dt.days.astype(float))\n",
    "    u_i90.extend(np.repeat(u,len(timestamps)))\n",
    "    ticker_dict[col] = u\n",
    "    ticker_id += [u]\n",
    "    ticker += [col]\n",
    "\n",
    "\n",
    "t_i90=np.array(t_i90)+np.random.rand(len(t_i90))\n",
    "u_i90=np.array(u_i90)\n",
    "perm = np.argsort(t_i90)\n",
    "t_i90 = t_i90[perm] # superposed timestamps\n",
    "u_i90 = u_i90[perm]\n",
    "\n",
    "for i in ticker:\n",
    "    total_events = t_i90[np.where(u_i90 == ticker_dict[i])].shape[0]\n",
    "    print(f'number of events of stock '+i+':', total_events)\n",
    "    print(f'average time between each event of \\'type\\' '+i+':', t_i90[np.where(u_i90 == ticker_dict[i])][-1]/total_events)"
   ]
  },
  {
   "cell_type": "markdown",
   "id": "8d0386d4",
   "metadata": {},
   "source": [
    "## Use Kolmogorov-Smirnov test to check if the 10 univariates follow homogenous Poisson process"
   ]
  },
  {
   "cell_type": "code",
   "execution_count": 21,
   "id": "c4644d71",
   "metadata": {},
   "outputs": [
    {
     "data": {
      "text/plain": [
       "5          7.0\n",
       "9         14.0\n",
       "22        31.0\n",
       "27        38.0\n",
       "38        56.0\n",
       "         ...  \n",
       "2969    4306.0\n",
       "2975    4314.0\n",
       "2977    4318.0\n",
       "3002    4354.0\n",
       "3013    4369.0\n",
       "Name: Date, Length: 303, dtype: float64"
      ]
     },
     "execution_count": 21,
     "metadata": {},
     "output_type": "execute_result"
    }
   ],
   "source": []
  },
  {
   "cell_type": "code",
   "execution_count": null,
   "id": "ef6cab81",
   "metadata": {},
   "outputs": [],
   "source": []
  },
  {
   "cell_type": "code",
   "execution_count": 12,
   "id": "4b3e5315",
   "metadata": {},
   "outputs": [
    {
     "ename": "AttributeError",
     "evalue": "'numpy.ndarray' object has no attribute 'extend'",
     "output_type": "error",
     "traceback": [
      "\u001b[1;31m---------------------------------------------------------------------------\u001b[0m",
      "\u001b[1;31mAttributeError\u001b[0m                            Traceback (most recent call last)",
      "\u001b[1;32m<ipython-input-12-98fc05ca7f27>\u001b[0m in \u001b[0;36m<module>\u001b[1;34m\u001b[0m\n\u001b[0;32m      2\u001b[0m     \u001b[0mTdiff\u001b[0m \u001b[1;33m=\u001b[0m \u001b[0mdf\u001b[0m\u001b[1;33m[\u001b[0m\u001b[0mcol\u001b[0m\u001b[1;33m]\u001b[0m\u001b[1;33m.\u001b[0m\u001b[0mdiff\u001b[0m\u001b[1;33m(\u001b[0m\u001b[1;33m)\u001b[0m\u001b[1;33m\u001b[0m\u001b[1;33m\u001b[0m\u001b[0m\n\u001b[0;32m      3\u001b[0m     \u001b[0mtimestamps\u001b[0m\u001b[1;33m=\u001b[0m\u001b[0mdates\u001b[0m\u001b[1;33m[\u001b[0m\u001b[0mTdiff\u001b[0m\u001b[1;33m<=\u001b[0m\u001b[0mTdiff\u001b[0m\u001b[1;33m.\u001b[0m\u001b[0mquantile\u001b[0m\u001b[1;33m(\u001b[0m\u001b[1;36m0.1\u001b[0m\u001b[1;33m)\u001b[0m\u001b[1;33m]\u001b[0m \u001b[1;31m# return timestamps where subsequent price difference was less than 10% quantile\u001b[0m\u001b[1;33m\u001b[0m\u001b[1;33m\u001b[0m\u001b[0m\n\u001b[1;32m----> 4\u001b[1;33m     \u001b[0mt_i\u001b[0m\u001b[1;33m.\u001b[0m\u001b[0mextend\u001b[0m\u001b[1;33m(\u001b[0m\u001b[1;33m(\u001b[0m\u001b[0mtimestamps\u001b[0m \u001b[1;33m-\u001b[0m \u001b[0mpd\u001b[0m\u001b[1;33m.\u001b[0m\u001b[0mTimestamp\u001b[0m\u001b[1;33m(\u001b[0m\u001b[1;36m2006\u001b[0m\u001b[1;33m,\u001b[0m\u001b[1;36m1\u001b[0m\u001b[1;33m,\u001b[0m\u001b[1;36m3\u001b[0m\u001b[1;33m)\u001b[0m\u001b[1;33m)\u001b[0m\u001b[1;33m.\u001b[0m\u001b[0mdt\u001b[0m\u001b[1;33m.\u001b[0m\u001b[0mdays\u001b[0m\u001b[1;33m.\u001b[0m\u001b[0mastype\u001b[0m\u001b[1;33m(\u001b[0m\u001b[0mfloat\u001b[0m\u001b[1;33m)\u001b[0m\u001b[1;33m)\u001b[0m \u001b[1;31m# measure time\u001b[0m\u001b[1;33m\u001b[0m\u001b[1;33m\u001b[0m\u001b[0m\n\u001b[0m\u001b[0;32m      5\u001b[0m     \u001b[0mu_i\u001b[0m\u001b[1;33m.\u001b[0m\u001b[0mextend\u001b[0m\u001b[1;33m(\u001b[0m\u001b[0mnp\u001b[0m\u001b[1;33m.\u001b[0m\u001b[0mrepeat\u001b[0m\u001b[1;33m(\u001b[0m\u001b[0mu\u001b[0m\u001b[1;33m,\u001b[0m\u001b[0mlen\u001b[0m\u001b[1;33m(\u001b[0m\u001b[0mtimestamps\u001b[0m\u001b[1;33m)\u001b[0m\u001b[1;33m)\u001b[0m\u001b[1;33m)\u001b[0m\u001b[1;33m\u001b[0m\u001b[1;33m\u001b[0m\u001b[0m\n\u001b[0;32m      6\u001b[0m     \u001b[0mticker_dict\u001b[0m\u001b[1;33m[\u001b[0m\u001b[0mcol\u001b[0m\u001b[1;33m]\u001b[0m \u001b[1;33m=\u001b[0m \u001b[0mu\u001b[0m\u001b[1;33m\u001b[0m\u001b[1;33m\u001b[0m\u001b[0m\n",
      "\u001b[1;31mAttributeError\u001b[0m: 'numpy.ndarray' object has no attribute 'extend'"
     ]
    }
   ],
   "source": [
    "for u,col in enumerate(df[ten_companies]):\n",
    "    Tdiff = df[col].diff()\n",
    "    timestamps=dates[Tdiff<=Tdiff.quantile(0.1)] # return timestamps where subsequent price difference was less than 10% quantile\n",
    "    t_i.extend((timestamps - pd.Timestamp(2006,1,3)).dt.days.astype(float)) # measure time \n",
    "    u_i.extend(np.repeat(u,len(timestamps)))\n",
    "    ticker_dict[col] = u\n",
    "    ticker_id += [u]\n",
    "    ticker += [col]"
   ]
  },
  {
   "cell_type": "code",
   "execution_count": 9,
   "id": "f500ce98",
   "metadata": {},
   "outputs": [],
   "source": []
  },
  {
   "cell_type": "code",
   "execution_count": 10,
   "id": "1ef6c567",
   "metadata": {},
   "outputs": [],
   "source": [
    "w = np.linspace(1,12,100)"
   ]
  },
  {
   "cell_type": "code",
   "execution_count": 15,
   "id": "db7411df",
   "metadata": {},
   "outputs": [
    {
     "name": "stdout",
     "output_type": "stream",
     "text": [
      "Max eigenvalue: 0.50000\n"
     ]
    },
    {
     "data": {
      "text/plain": [
       "(array([[0.95600171]]),\n",
       " array([0.20768181, 0.82844489, 0.14928212, 0.51280462, 0.1359196 ,\n",
       "        0.68903648, 0.84174772, 0.425509  , 0.956926  , 0.82533291,\n",
       "        0.33821531]))"
      ]
     },
     "execution_count": 15,
     "metadata": {},
     "output_type": "execute_result"
    }
   ],
   "source": [
    "P = MHP.MHP() # instantiate MHP object\n",
    "P.generate_seq(60) # mu=[0.1], alpha=[[0.5]], and omega=1.0\n",
    "\n",
    "#P.data = data[np.where(data[:,1] == 0)]\n",
    "#P.data[:,1] = 0\n",
    "#print(data[np.where(data[:,1] == 3)])\n",
    "P.mu = [0.1]\n",
    "P.alpha = [0.3]\n",
    "P.omega = 0.5\n",
    "\n",
    "\n",
    "# P.plot_events()\n",
    "# plt.show()\n",
    "\n",
    "seed = 10\n",
    "\n",
    "rng = np.random.default_rng(seed)\n",
    "ahat = rng.uniform(0,1, size=(1,1))\n",
    "mhat = rng.uniform(0,1, size=11)\n",
    "\n",
    "\n",
    "\n",
    "#w = np.linspace(0.1,4.25,100)\n",
    "ahat, mhat"
   ]
  },
  {
   "cell_type": "code",
   "execution_count": 16,
   "id": "959a2700",
   "metadata": {},
   "outputs": [],
   "source": [
    "ahat_arr = []; mhat_arr = []; LL_arr = []; res = []"
   ]
  },
  {
   "cell_type": "code",
   "execution_count": 13,
   "id": "f144c7d2",
   "metadata": {},
   "outputs": [],
   "source": [
    "u_i = np.linspace(0,0,np.shape(tstamps_PFE)[0])"
   ]
  },
  {
   "cell_type": "code",
   "execution_count": 14,
   "id": "dc7e7ccb",
   "metadata": {},
   "outputs": [],
   "source": [
    "data = []\n",
    "counter = 0\n",
    "for t,u in zip(tstamps_PFE, u_i):\n",
    "    data.append([])\n",
    "    data[counter] += [t, np.array([u], dtype='int')]\n",
    "    counter += 1"
   ]
  },
  {
   "cell_type": "code",
   "execution_count": 15,
   "id": "e296234b",
   "metadata": {},
   "outputs": [],
   "source": [
    "data = np.array(data)"
   ]
  },
  {
   "cell_type": "code",
   "execution_count": 155,
   "id": "c5f916f2",
   "metadata": {},
   "outputs": [],
   "source": [
    "for w_hyperparam in range(len(w)):\n",
    "    #print(f'hyperparameter omega: ', w[i])\n",
    "    P.data = data[0:159,:]\n",
    "    P.data[:,1] = 0\n",
    "    res += [P.EM(np.array([ahat[0]]), np.array([mhat[0]]), w[w_hyperparam], verbose=False, seed1=None,seed2=None)]\n",
    "    ahat_arr += [res[w_hyperparam][0]] \n",
    "    mhat_arr += [res[w_hyperparam][1]]\n",
    "    LL_arr += [-res[w_hyperparam][-1]]"
   ]
  },
  {
   "cell_type": "code",
   "execution_count": 156,
   "id": "ff8ed181",
   "metadata": {},
   "outputs": [],
   "source": [
    "min_index = np.argmin(LL_arr)\n",
    "omega_index = [min_index]\n",
    "mhat_vals = mhat_arr[min_index]\n",
    "ahat_vals = ahat_arr[min_index]"
   ]
  },
  {
   "cell_type": "code",
   "execution_count": 157,
   "id": "33bca5eb",
   "metadata": {},
   "outputs": [
    {
     "data": {
      "text/plain": [
       "(array([3.11111111]), array([0.07395349]), array([[5.00075732e-17]]))"
      ]
     },
     "execution_count": 157,
     "metadata": {},
     "output_type": "execute_result"
    }
   ],
   "source": [
    "w[omega_index], mhat_vals, ahat_vals"
   ]
  },
  {
   "cell_type": "code",
   "execution_count": null,
   "id": "6f5bfcd8",
   "metadata": {},
   "outputs": [],
   "source": []
  },
  {
   "cell_type": "code",
   "execution_count": 166,
   "id": "77e91d67",
   "metadata": {},
   "outputs": [
    {
     "data": {
      "application/vnd.jupyter.widget-view+json": {
       "model_id": "c56a2d013dea46c8acbefe1247072f3f",
       "version_major": 2,
       "version_minor": 0
      },
      "text/plain": [
       "Canvas(toolbar=Toolbar(toolitems=[('Home', 'Reset original view', 'home', 'home'), ('Back', 'Back to previous …"
      ]
     },
     "metadata": {},
     "output_type": "display_data"
    }
   ],
   "source": [
    "plt.plot(w,LL_arr)\n",
    "plt.show()\n",
    "plt.ion()"
   ]
  },
  {
   "cell_type": "code",
   "execution_count": 13,
   "id": "12ddd299",
   "metadata": {},
   "outputs": [
    {
     "data": {
      "text/plain": [
       "(array([[0.83498163]]), array([0.59655403]))"
      ]
     },
     "execution_count": 13,
     "metadata": {},
     "output_type": "execute_result"
    }
   ],
   "source": [
    "seed = 100\n",
    "\n",
    "rng = np.random.default_rng(seed)\n",
    "ahat = rng.uniform(0,1, size=(1,1))\n",
    "mhat = rng.uniform(0,1, size=1)\n",
    "\n",
    "\n",
    "\n",
    "#w = np.linspace(0.1,4.25,100)\n",
    "ahat, mhat"
   ]
  },
  {
   "cell_type": "code",
   "execution_count": 22,
   "id": "c06f29d8",
   "metadata": {},
   "outputs": [
    {
     "ename": "ValueError",
     "evalue": "shapes (10,10) and (1,4578103) not aligned: 10 (dim 1) != 1 (dim 0)",
     "output_type": "error",
     "traceback": [
      "\u001b[1;31m---------------------------------------------------------------------------\u001b[0m",
      "\u001b[1;31mValueError\u001b[0m                                Traceback (most recent call last)",
      "\u001b[1;32m<ipython-input-22-dd01cf9d8f52>\u001b[0m in \u001b[0;36m<module>\u001b[1;34m\u001b[0m\n\u001b[1;32m----> 1\u001b[1;33m \u001b[0mmu_val\u001b[0m\u001b[1;33m,\u001b[0m \u001b[0malpha_tilde_val\u001b[0m\u001b[1;33m,\u001b[0m \u001b[0mbeta_val\u001b[0m\u001b[1;33m,\u001b[0m \u001b[0mNLL\u001b[0m \u001b[1;33m=\u001b[0m \u001b[0mHPD\u001b[0m\u001b[1;33m.\u001b[0m\u001b[0mEM\u001b[0m\u001b[1;33m(\u001b[0m\u001b[0mmhat\u001b[0m\u001b[1;33m,\u001b[0m \u001b[0mahat\u001b[0m\u001b[1;33m,\u001b[0m \u001b[1;36m3\u001b[0m\u001b[1;33m,\u001b[0m \u001b[0mdata\u001b[0m\u001b[1;33m[\u001b[0m\u001b[1;33m:\u001b[0m\u001b[1;33m,\u001b[0m\u001b[1;36m0\u001b[0m\u001b[1;33m]\u001b[0m\u001b[1;33m,\u001b[0m \u001b[0mMaxiter\u001b[0m\u001b[1;33m=\u001b[0m\u001b[1;36m10\u001b[0m\u001b[1;33m,\u001b[0m \u001b[0mnum_of_tstamp\u001b[0m \u001b[1;33m=\u001b[0m \u001b[1;33m-\u001b[0m\u001b[1;36m1\u001b[0m\u001b[1;33m)\u001b[0m\u001b[1;33m\u001b[0m\u001b[1;33m\u001b[0m\u001b[0m\n\u001b[0m",
      "\u001b[1;32m~\\OneDrive\\20_21\\Coding\\Meeting3_onwards\\Codes_Latest\\Latest_scripts\\HP_scripts_debug.py\u001b[0m in \u001b[0;36mEM\u001b[1;34m(mu_guess, alpha_guess, beta_guess, timestamp, Maxiter, num_of_tstamp)\u001b[0m\n\u001b[0;32m    505\u001b[0m \u001b[1;33m\u001b[0m\u001b[0m\n\u001b[0;32m    506\u001b[0m         \u001b[1;31m#Pij = sparse.lil_matrix((Non_zero_entries, indices)) # sparse matrix representation of probability matrix Pij\u001b[0m\u001b[1;33m\u001b[0m\u001b[1;33m\u001b[0m\u001b[1;33m\u001b[0m\u001b[0m\n\u001b[1;32m--> 507\u001b[1;33m         \u001b[0mPij\u001b[0m\u001b[1;33m[\u001b[0m\u001b[0mindices\u001b[0m\u001b[1;33m]\u001b[0m \u001b[1;33m=\u001b[0m \u001b[0malpha_tilde\u001b[0m\u001b[1;33m*\u001b[0m\u001b[0mnp\u001b[0m\u001b[1;33m.\u001b[0m\u001b[0mexp\u001b[0m\u001b[1;33m(\u001b[0m\u001b[1;33m-\u001b[0m\u001b[0mbeta\u001b[0m\u001b[1;33m*\u001b[0m\u001b[0mPij\u001b[0m\u001b[1;33m[\u001b[0m\u001b[0mindices\u001b[0m\u001b[1;33m]\u001b[0m\u001b[1;33m)\u001b[0m\u001b[1;33m\u001b[0m\u001b[1;33m\u001b[0m\u001b[0m\n\u001b[0m\u001b[0;32m    508\u001b[0m \u001b[1;33m\u001b[0m\u001b[0m\n\u001b[0;32m    509\u001b[0m         \u001b[0mrow_Pij\u001b[0m\u001b[1;33m,\u001b[0m \u001b[0mcol_Pij\u001b[0m\u001b[1;33m,\u001b[0m \u001b[0mNon_zero_entries_Pij\u001b[0m \u001b[1;33m=\u001b[0m \u001b[0msparse\u001b[0m\u001b[1;33m.\u001b[0m\u001b[0mfind\u001b[0m\u001b[1;33m(\u001b[0m\u001b[0mPij\u001b[0m\u001b[1;33m)\u001b[0m\u001b[1;33m\u001b[0m\u001b[1;33m\u001b[0m\u001b[0m\n",
      "\u001b[1;32m~\\AppData\\Roaming\\Python\\Python37\\site-packages\\numpy\\matrixlib\\defmatrix.py\u001b[0m in \u001b[0;36m__rmul__\u001b[1;34m(self, other)\u001b[0m\n\u001b[0;32m    224\u001b[0m \u001b[1;33m\u001b[0m\u001b[0m\n\u001b[0;32m    225\u001b[0m     \u001b[1;32mdef\u001b[0m \u001b[0m__rmul__\u001b[0m\u001b[1;33m(\u001b[0m\u001b[0mself\u001b[0m\u001b[1;33m,\u001b[0m \u001b[0mother\u001b[0m\u001b[1;33m)\u001b[0m\u001b[1;33m:\u001b[0m\u001b[1;33m\u001b[0m\u001b[1;33m\u001b[0m\u001b[0m\n\u001b[1;32m--> 226\u001b[1;33m         \u001b[1;32mreturn\u001b[0m \u001b[0mN\u001b[0m\u001b[1;33m.\u001b[0m\u001b[0mdot\u001b[0m\u001b[1;33m(\u001b[0m\u001b[0mother\u001b[0m\u001b[1;33m,\u001b[0m \u001b[0mself\u001b[0m\u001b[1;33m)\u001b[0m\u001b[1;33m\u001b[0m\u001b[1;33m\u001b[0m\u001b[0m\n\u001b[0m\u001b[0;32m    227\u001b[0m \u001b[1;33m\u001b[0m\u001b[0m\n\u001b[0;32m    228\u001b[0m     \u001b[1;32mdef\u001b[0m \u001b[0m__imul__\u001b[0m\u001b[1;33m(\u001b[0m\u001b[0mself\u001b[0m\u001b[1;33m,\u001b[0m \u001b[0mother\u001b[0m\u001b[1;33m)\u001b[0m\u001b[1;33m:\u001b[0m\u001b[1;33m\u001b[0m\u001b[1;33m\u001b[0m\u001b[0m\n",
      "\u001b[1;32m<__array_function__ internals>\u001b[0m in \u001b[0;36mdot\u001b[1;34m(*args, **kwargs)\u001b[0m\n",
      "\u001b[1;31mValueError\u001b[0m: shapes (10,10) and (1,4578103) not aligned: 10 (dim 1) != 1 (dim 0)"
     ]
    }
   ],
   "source": [
    "mu_val, alpha_tilde_val, beta_val, NLL = HP.EM(mhat, ahat, 3, data[:,0], Maxiter=10, num_of_tstamp = -1)"
   ]
  },
  {
   "cell_type": "code",
   "execution_count": null,
   "id": "f4fc3af4",
   "metadata": {},
   "outputs": [],
   "source": [
    "mu_val, alpha_tilde_val/beta_val, beta_val, NLL"
   ]
  },
  {
   "cell_type": "markdown",
   "id": "3219f748",
   "metadata": {},
   "source": [
    "# Pfizer data outlier investigation"
   ]
  },
  {
   "cell_type": "code",
   "execution_count": 94,
   "id": "3221a313",
   "metadata": {},
   "outputs": [],
   "source": [
    "df2 = pd.read_csv('dataset-djia-2018-subset2.csv')\n",
    "dates = pd.to_datetime(df2['Date']) # set dates as the Date of closing price column"
   ]
  },
  {
   "cell_type": "code",
   "execution_count": 96,
   "id": "3ce1243d",
   "metadata": {
    "scrolled": false
   },
   "outputs": [
    {
     "data": {
      "application/vnd.jupyter.widget-view+json": {
       "model_id": "8bc5774af6f145cc9ca5396b7cdb5aad",
       "version_major": 2,
       "version_minor": 0
      },
      "text/plain": [
       "Canvas(toolbar=Toolbar(toolitems=[('Home', 'Reset original view', 'home', 'home'), ('Back', 'Back to previous …"
      ]
     },
     "metadata": {},
     "output_type": "display_data"
    },
    {
     "data": {
      "text/plain": [
       "<matplotlib.axes._subplots.AxesSubplot at 0x24638151f48>"
      ]
     },
     "execution_count": 96,
     "metadata": {},
     "output_type": "execute_result"
    }
   ],
   "source": [
    "df2[['PFE','MRK']].plot()"
   ]
  },
  {
   "cell_type": "code",
   "execution_count": 98,
   "id": "fec15a77",
   "metadata": {},
   "outputs": [
    {
     "data": {
      "application/vnd.jupyter.widget-view+json": {
       "model_id": "236d03a6c8654c87aea1673c881052e5",
       "version_major": 2,
       "version_minor": 0
      },
      "text/plain": [
       "Canvas(toolbar=Toolbar(toolitems=[('Home', 'Reset original view', 'home', 'home'), ('Back', 'Back to previous …"
      ]
     },
     "metadata": {},
     "output_type": "display_data"
    },
    {
     "data": {
      "text/plain": [
       "<matplotlib.axes._subplots.AxesSubplot at 0x246398df908>"
      ]
     },
     "execution_count": 98,
     "metadata": {},
     "output_type": "execute_result"
    }
   ],
   "source": [
    "dates = pd.to_datetime(df2['Date']) # set dates as the Date of closing price column\n",
    "df2.reset_index().plot(x='Date', y=['PFE','MRK'])\n",
    "#plt.yscale('log')"
   ]
  },
  {
   "cell_type": "code",
   "execution_count": null,
   "id": "c0a7f930",
   "metadata": {},
   "outputs": [],
   "source": [
    "t_i = []\n",
    "u_i = []"
   ]
  },
  {
   "cell_type": "code",
   "execution_count": 114,
   "id": "a0929d42",
   "metadata": {},
   "outputs": [],
   "source": [
    "df2 = df2.set_index('Date')"
   ]
  },
  {
   "cell_type": "code",
   "execution_count": 134,
   "id": "94de5c80",
   "metadata": {},
   "outputs": [],
   "source": [
    "tdiff_PFE = df['PFE'].diff()\n",
    "ts_PFE = dates[tdiff_PFE<=tdiff_PFE.quantile(0.1)]\n",
    "tstamps_PFE = (ts_PFE - pd.Timestamp(2006,1,3)).dt.days.astype(float)"
   ]
  },
  {
   "cell_type": "code",
   "execution_count": null,
   "id": "afe84e02",
   "metadata": {},
   "outputs": [],
   "source": [
    "ts_PFE_date = pd.DataFrame({'Date': ts_PFE.values, 'event time': tstamps_PFE.values})"
   ]
  },
  {
   "cell_type": "markdown",
   "id": "418766f3",
   "metadata": {},
   "source": [
    "# Appled data investigation"
   ]
  },
  {
   "cell_type": "code",
   "execution_count": 13,
   "id": "26fd189d",
   "metadata": {},
   "outputs": [],
   "source": [
    "tdiff_AAPL = df['AAPL'].diff()\n",
    "ts_AAPL = dates[tdiff_AAPL<=tdiff_AAPL.quantile(0.1)]\n",
    "tstamps_AAPL = (ts_AAPL - pd.Timestamp(2006,1,3)).dt.days.astype(float)"
   ]
  },
  {
   "cell_type": "code",
   "execution_count": 15,
   "id": "cbf19c63",
   "metadata": {},
   "outputs": [
    {
     "data": {
      "text/html": [
       "<div>\n",
       "<style scoped>\n",
       "    .dataframe tbody tr th:only-of-type {\n",
       "        vertical-align: middle;\n",
       "    }\n",
       "\n",
       "    .dataframe tbody tr th {\n",
       "        vertical-align: top;\n",
       "    }\n",
       "\n",
       "    .dataframe thead th {\n",
       "        text-align: right;\n",
       "    }\n",
       "</style>\n",
       "<table border=\"1\" class=\"dataframe\">\n",
       "  <thead>\n",
       "    <tr style=\"text-align: right;\">\n",
       "      <th></th>\n",
       "      <th>event time</th>\n",
       "    </tr>\n",
       "  </thead>\n",
       "  <tbody>\n",
       "    <tr>\n",
       "      <th>0</th>\n",
       "      <td>567.0</td>\n",
       "    </tr>\n",
       "    <tr>\n",
       "      <th>1</th>\n",
       "      <td>574.0</td>\n",
       "    </tr>\n",
       "    <tr>\n",
       "      <th>2</th>\n",
       "      <td>583.0</td>\n",
       "    </tr>\n",
       "    <tr>\n",
       "      <th>3</th>\n",
       "      <td>610.0</td>\n",
       "    </tr>\n",
       "    <tr>\n",
       "      <th>4</th>\n",
       "      <td>674.0</td>\n",
       "    </tr>\n",
       "    <tr>\n",
       "      <th>...</th>\n",
       "      <td>...</td>\n",
       "    </tr>\n",
       "    <tr>\n",
       "      <th>298</th>\n",
       "      <td>4348.0</td>\n",
       "    </tr>\n",
       "    <tr>\n",
       "      <th>299</th>\n",
       "      <td>4353.0</td>\n",
       "    </tr>\n",
       "    <tr>\n",
       "      <th>300</th>\n",
       "      <td>4368.0</td>\n",
       "    </tr>\n",
       "    <tr>\n",
       "      <th>301</th>\n",
       "      <td>4375.0</td>\n",
       "    </tr>\n",
       "    <tr>\n",
       "      <th>302</th>\n",
       "      <td>4378.0</td>\n",
       "    </tr>\n",
       "  </tbody>\n",
       "</table>\n",
       "<p>303 rows × 1 columns</p>\n",
       "</div>"
      ],
      "text/plain": [
       "     event time\n",
       "0         567.0\n",
       "1         574.0\n",
       "2         583.0\n",
       "3         610.0\n",
       "4         674.0\n",
       "..          ...\n",
       "298      4348.0\n",
       "299      4353.0\n",
       "300      4368.0\n",
       "301      4375.0\n",
       "302      4378.0\n",
       "\n",
       "[303 rows x 1 columns]"
      ]
     },
     "execution_count": 15,
     "metadata": {},
     "output_type": "execute_result"
    }
   ],
   "source": [
    "AAPL_event_times = pd.DataFrame({'event time': tstamps_AAPL.values})\n",
    "AAPL_event_times"
   ]
  },
  {
   "cell_type": "code",
   "execution_count": 16,
   "id": "79042d8c",
   "metadata": {},
   "outputs": [],
   "source": [
    "AAPL_event_times.to_csv('AAPL_event_times.dat', header=None, index=None)"
   ]
  },
  {
   "cell_type": "markdown",
   "id": "90ea9a1b",
   "metadata": {},
   "source": [
    "# Save event times with dates data of each stock"
   ]
  },
  {
   "cell_type": "code",
   "execution_count": 146,
   "id": "dc465bae",
   "metadata": {},
   "outputs": [],
   "source": [
    "tstamps_ten_univ = []\n",
    "tstamps_ten_univ_dates = []\n",
    "\n",
    "count = 0\n",
    "for i in ticker:\n",
    "    tdiff_i = df[i].diff()\n",
    "    tstamps_ten_univ_dates += [dates[tdiff_i<=tdiff_i.quantile(0.1)]]\n",
    "    tstamps_i = (tstamps_ten_univ_dates[count] - pd.Timestamp(2006,1,3)).dt.days.astype(float)\n",
    "    tstamps_ten_univ += [tstamps_i]\n",
    "    count += 1"
   ]
  },
  {
   "cell_type": "code",
   "execution_count": 147,
   "id": "c0a61ffd",
   "metadata": {},
   "outputs": [],
   "source": [
    "ts_i_with_dates = []\n",
    "for i in range(len(ticker)):\n",
    "    ts_i_with_dates += [pd.DataFrame({'Date': tstamps_ten_univ_dates[i].values, 'event time': tstamps_ten_univ[i].values})]\n",
    "    ts_i_with_dates[i].to_csv('ten_stocks_event_times/'+ticker[i]+'_ts_with_dates.csv', index=None)"
   ]
  },
  {
   "cell_type": "code",
   "execution_count": null,
   "id": "d28f3032",
   "metadata": {},
   "outputs": [],
   "source": []
  },
  {
   "cell_type": "code",
   "execution_count": 103,
   "id": "433866df",
   "metadata": {},
   "outputs": [
    {
     "data": {
      "text/plain": [
       "21    2006-02-02\n",
       "65    2006-04-06\n",
       "93    2006-05-17\n",
       "95    2006-05-19\n",
       "101   2006-05-30\n",
       "         ...    \n",
       "719   2008-11-10\n",
       "721   2008-11-12\n",
       "723   2008-11-14\n",
       "724   2008-11-17\n",
       "726   2008-11-19\n",
       "Name: Date, Length: 100, dtype: datetime64[ns]"
      ]
     },
     "execution_count": 103,
     "metadata": {},
     "output_type": "execute_result"
    }
   ],
   "source": [
    "ts_MRK.iloc[0:100]"
   ]
  },
  {
   "cell_type": "code",
   "execution_count": 104,
   "id": "b6262992",
   "metadata": {},
   "outputs": [
    {
     "data": {
      "text/plain": [
       "21       30.0\n",
       "65       93.0\n",
       "93      134.0\n",
       "95      136.0\n",
       "101     147.0\n",
       "        ...  \n",
       "719    1042.0\n",
       "721    1044.0\n",
       "723    1046.0\n",
       "724    1049.0\n",
       "726    1051.0\n",
       "Name: Date, Length: 100, dtype: float64"
      ]
     },
     "execution_count": 104,
     "metadata": {},
     "output_type": "execute_result"
    }
   ],
   "source": [
    "tstamps_MRK.iloc[0:100]"
   ]
  },
  {
   "cell_type": "code",
   "execution_count": 71,
   "id": "c7afe526",
   "metadata": {},
   "outputs": [
    {
     "data": {
      "text/plain": [
       "5      2006-01-10\n",
       "9      2006-01-17\n",
       "22     2006-02-03\n",
       "27     2006-02-10\n",
       "38     2006-02-28\n",
       "          ...    \n",
       "1468   2011-10-31\n",
       "1475   2011-11-09\n",
       "1483   2011-11-21\n",
       "1485   2011-11-23\n",
       "1661   2012-08-07\n",
       "Name: Date, Length: 160, dtype: datetime64[ns]"
      ]
     },
     "execution_count": 71,
     "metadata": {},
     "output_type": "execute_result"
    }
   ],
   "source": [
    "ts_PFE.iloc[0:160]"
   ]
  },
  {
   "cell_type": "code",
   "execution_count": 72,
   "id": "22dd5605",
   "metadata": {},
   "outputs": [
    {
     "data": {
      "text/plain": [
       "5          7.0\n",
       "9         14.0\n",
       "22        31.0\n",
       "27        38.0\n",
       "38        56.0\n",
       "         ...  \n",
       "1468    2127.0\n",
       "1475    2136.0\n",
       "1483    2148.0\n",
       "1485    2150.0\n",
       "1661    2408.0\n",
       "Name: Date, Length: 160, dtype: float64"
      ]
     },
     "execution_count": 72,
     "metadata": {},
     "output_type": "execute_result"
    }
   ],
   "source": [
    "tstamps_PFE.iloc[0:160]"
   ]
  },
  {
   "cell_type": "code",
   "execution_count": 69,
   "id": "b052edcc",
   "metadata": {},
   "outputs": [
    {
     "data": {
      "text/plain": [
       "5          7.0\n",
       "9         14.0\n",
       "22        31.0\n",
       "27        38.0\n",
       "38        56.0\n",
       "         ...  \n",
       "1464    2121.0\n",
       "1468    2127.0\n",
       "1475    2136.0\n",
       "1483    2148.0\n",
       "1485    2150.0\n",
       "Name: Date, Length: 159, dtype: float64"
      ]
     },
     "execution_count": 69,
     "metadata": {},
     "output_type": "execute_result"
    }
   ],
   "source": []
  },
  {
   "cell_type": "code",
   "execution_count": 47,
   "id": "b31534b2",
   "metadata": {},
   "outputs": [],
   "source": [
    "tstamps_PFE_subset = np.array(tstamps_PFE, dtype=float)[0:159]"
   ]
  },
  {
   "cell_type": "code",
   "execution_count": 48,
   "id": "537e089a",
   "metadata": {},
   "outputs": [
    {
     "data": {
      "text/plain": [
       "array([   7.,   14.,   31.,   38.,   56.,   62.,   84.,   94.,  127.,\n",
       "        134.,  135.,  147.,  167.,  189.,  192.,  211.,  230.,  289.,\n",
       "        294.,  301.,  309.,  310.,  335.,  385.,  387.,  420.,  434.,\n",
       "        475.,  492.,  519.,  520.,  533.,  535.,  561.,  569.,  570.,\n",
       "        583.,  610.,  612.,  625.,  651.,  654.,  667.,  673.,  685.,\n",
       "        687.,  692.,  707.,  710.,  731.,  742.,  744.,  745.,  752.,\n",
       "        763.,  764.,  766.,  793.,  799.,  801.,  806.,  826.,  829.,\n",
       "        835.,  840.,  855.,  885.,  890.,  899.,  905.,  916.,  937.,\n",
       "        975.,  980.,  986.,  988.,  993., 1000., 1008., 1009., 1010.,\n",
       "       1011., 1016., 1023., 1025., 1030., 1037., 1038., 1044., 1046.,\n",
       "       1049., 1051., 1052., 1063., 1066., 1071., 1099., 1107., 1119.,\n",
       "       1121., 1123., 1128., 1134., 1147., 1149., 1150., 1151., 1154.,\n",
       "       1168., 1171., 1203., 1205., 1219., 1240., 1245., 1259., 1276.,\n",
       "       1302., 1359., 1387., 1396., 1434., 1479., 1486., 1492., 1493.,\n",
       "       1575., 1584., 1592., 1598., 1613., 1633., 1681., 1750., 1898.,\n",
       "       1934., 1946., 1975., 1984., 1989., 1998., 2011., 2037., 2039.,\n",
       "       2043., 2045., 2053., 2060., 2068., 2075., 2087., 2088., 2099.,\n",
       "       2113., 2121., 2127., 2136., 2148., 2150.])"
      ]
     },
     "execution_count": 48,
     "metadata": {},
     "output_type": "execute_result"
    }
   ],
   "source": [
    "tstamps_PFE_subset"
   ]
  },
  {
   "cell_type": "code",
   "execution_count": 25,
   "id": "27e13823",
   "metadata": {},
   "outputs": [],
   "source": [
    "from scipy import stats"
   ]
  },
  {
   "cell_type": "code",
   "execution_count": 35,
   "id": "cf99cbe6",
   "metadata": {},
   "outputs": [
    {
     "data": {
      "text/plain": [
       "KstestResult(statistic=0.006935085022182208, pvalue=0.7192655672067916)"
      ]
     },
     "execution_count": 35,
     "metadata": {},
     "output_type": "execute_result"
    }
   ],
   "source": [
    "delta_t = stats.expon.rvs(size=10000)\n",
    "t = np.cumsum(delta_t)\n",
    "stats.kstest(t/t.max(), 'uniform')"
   ]
  },
  {
   "cell_type": "code",
   "execution_count": 38,
   "id": "f7753144",
   "metadata": {},
   "outputs": [],
   "source": [
    "plt.hist(t/t.max())\n",
    "plt.show()\n",
    "plt.ion()"
   ]
  },
  {
   "cell_type": "code",
   "execution_count": 51,
   "id": "b1754658",
   "metadata": {},
   "outputs": [
    {
     "data": {
      "text/plain": [
       "KstestResult(statistic=0.09407708354208988, pvalue=0.00889706899897158)"
      ]
     },
     "execution_count": 51,
     "metadata": {},
     "output_type": "execute_result"
    }
   ],
   "source": [
    "delta_t = np.diff(tstamps_PFE_check) # waiting times between events\n",
    "#delta_t = np.diff(data[:,0])\n",
    "t = np.cumsum(delta_t) # cumulative sum of the waiting times\n",
    "sample = t/t.max()\n",
    "sample = np.array(sample, dtype=float)\n",
    "stats.kstest(sample, 'uniform')"
   ]
  },
  {
   "cell_type": "code",
   "execution_count": 33,
   "id": "bb02a27e",
   "metadata": {},
   "outputs": [
    {
     "data": {
      "text/plain": [
       "(array([26., 39., 52., 16., 25.,  9., 32., 23., 53., 27.]),\n",
       " array([0.00160477, 0.10144429, 0.20128381, 0.30112334, 0.40096286,\n",
       "        0.50080238, 0.60064191, 0.70048143, 0.80032095, 0.90016048,\n",
       "        1.        ]),\n",
       " <a list of 10 Patch objects>)"
      ]
     },
     "execution_count": 33,
     "metadata": {},
     "output_type": "execute_result"
    }
   ],
   "source": [
    "plt.hist(sample)"
   ]
  },
  {
   "cell_type": "code",
   "execution_count": 31,
   "id": "4a50d918",
   "metadata": {},
   "outputs": [
    {
     "name": "stdout",
     "output_type": "stream",
     "text": [
      "Kolmogorov-Smirnov test to check if the 10 univariates follow homogenous Poisson process\n",
      "\n",
      "K-S test result of AAPL:\n",
      "p-value = 1.8236325477265985e-16\n",
      "\n",
      "K-S test result of MSFT:\n",
      "p-value = 3.629881683931352e-05\n",
      "\n",
      "K-S test result of JPM:\n",
      "p-value = 4.479376905440927e-08\n",
      "\n",
      "K-S test result of GS:\n",
      "p-value = 1.5646723764133746e-16\n",
      "\n",
      "K-S test result of PFE:\n",
      "p-value = 0.00893297940973777\n",
      "\n",
      "K-S test result of MRK:\n",
      "p-value = 0.0019848736369328587\n",
      "\n",
      "K-S test result of NKE:\n",
      "p-value = 1.2099883981575186e-24\n",
      "\n",
      "K-S test result of HD:\n",
      "p-value = 1.6547317663727973e-21\n",
      "\n",
      "K-S test result of GOOGL:\n",
      "p-value = 5.2510035312893816e-17\n",
      "\n",
      "K-S test result of AMZN:\n",
      "p-value = 8.327460140257444e-35\n"
     ]
    }
   ],
   "source": [
    "stats_res = []\n",
    "counter = 0\n",
    "print(\"Kolmogorov-Smirnov test to check if the 10 univariates follow homogenous Poisson process\")\n",
    "\n",
    "for i in ticker:\n",
    "    delta_t = np.diff(t_i[np.where(u_i == ticker_dict[i])])\n",
    "    t = np.cumsum(delta_t) # cumulative sum of the waiting times\n",
    "    sample = t/t.max()\n",
    "    sample = np.array(sample, dtype=float)\n",
    "    stats_res += [stats.kstest(sample, 'uniform')]\n",
    "    print(\"\")\n",
    "    print(\"K-S test result of \"+i+':')\n",
    "    print(f'p-value =',stats_res[counter][1])\n",
    "    counter += 1"
   ]
  },
  {
   "cell_type": "code",
   "execution_count": 21,
   "id": "61d60373",
   "metadata": {},
   "outputs": [
    {
     "name": "stdout",
     "output_type": "stream",
     "text": [
      "number of events of stock AAPL: 604\n",
      "average time between each event of 'type' AAPL:\n",
      "7.245 days\n",
      "number of events of stock MSFT: 604\n",
      "average time between each event of 'type' MSFT:\n",
      "7.208 days\n",
      "number of events of stock JPM: 604\n",
      "average time between each event of 'type' JPM:\n",
      "7.223 days\n",
      "number of events of stock GS: 604\n",
      "average time between each event of 'type' GS:\n",
      "7.232 days\n",
      "number of events of stock PFE: 604\n",
      "average time between each event of 'type' PFE:\n",
      "7.234 days\n",
      "number of events of stock MRK: 604\n",
      "average time between each event of 'type' MRK:\n",
      "7.225 days\n",
      "number of events of stock NKE: 604\n",
      "average time between each event of 'type' NKE:\n",
      "7.247 days\n",
      "number of events of stock HD: 604\n",
      "average time between each event of 'type' HD:\n",
      "7.211 days\n",
      "number of events of stock GOOGL: 604\n",
      "average time between each event of 'type' GOOGL:\n",
      "7.208 days\n",
      "number of events of stock AMZN: 604\n",
      "average time between each event of 'type' AMZN:\n",
      "7.248 days\n"
     ]
    }
   ],
   "source": [
    "for i in ticker:\n",
    "    total_events = t_i20[np.where(u_i20 == ticker_dict[i])].shape[0]\n",
    "    print(f'number of events of stock '+i+':', total_events)\n",
    "    avg = t_i20[np.where(u_i20 == ticker_dict[i])][-1]/total_events\n",
    "    print(f'average time between each event of \\'type\\' '+i+':')\n",
    "    print(r'%.3f days' % avg)"
   ]
  },
  {
   "cell_type": "code",
   "execution_count": 35,
   "id": "d719809f",
   "metadata": {},
   "outputs": [
    {
     "data": {
      "text/plain": [
       "(302,)"
      ]
     },
     "execution_count": 35,
     "metadata": {},
     "output_type": "execute_result"
    }
   ],
   "source": [
    "t_i[np.where(u_i == ticker_dict[i])].shape"
   ]
  },
  {
   "cell_type": "code",
   "execution_count": null,
   "id": "38b123d8",
   "metadata": {},
   "outputs": [],
   "source": []
  },
  {
   "cell_type": "code",
   "execution_count": 66,
   "id": "4dd0dfd3",
   "metadata": {},
   "outputs": [],
   "source": []
  },
  {
   "cell_type": "markdown",
   "id": "4010c68a",
   "metadata": {},
   "source": [
    "### Use EM to estimate alpha and mu given timestamps of univariate HP that models the events of each company using initial guess of alpha and mu "
   ]
  },
  {
   "cell_type": "markdown",
   "id": "bbfd9ee4",
   "metadata": {},
   "source": [
    "### Compute log-likelihoods of each selected stock by tuning hyperparameter omega to find omega that gives the highest value of log-likelihood using EM"
   ]
  },
  {
   "cell_type": "code",
   "execution_count": 22,
   "id": "37bd051b",
   "metadata": {},
   "outputs": [
    {
     "name": "stdout",
     "output_type": "stream",
     "text": [
      "Max eigenvalue: 0.50000\n"
     ]
    },
    {
     "data": {
      "text/plain": [
       "(array([[0.51182162, 0.9504637 , 0.14415961, 0.94864945, 0.31183145,\n",
       "         0.42332645, 0.82770259, 0.40919914, 0.54959369, 0.02755911],\n",
       "        [0.75351311, 0.53814331, 0.32973172, 0.7884287 , 0.30319483,\n",
       "         0.45349789, 0.1340417 , 0.40311299, 0.20345524, 0.26231334],\n",
       "        [0.75036467, 0.28040876, 0.48519097, 0.9807372 , 0.96165719,\n",
       "         0.72478994, 0.54122686, 0.2768912 , 0.16065201, 0.96992541],\n",
       "        [0.51606859, 0.11586561, 0.62348976, 0.77668311, 0.6130033 ,\n",
       "         0.9172977 , 0.03959288, 0.52858926, 0.45933588, 0.06234958],\n",
       "        [0.64132817, 0.85263284, 0.59294102, 0.26009745, 0.83988152,\n",
       "         0.50949588, 0.51088888, 0.75303021, 0.14792204, 0.81962672],\n",
       "        [0.68328691, 0.78709694, 0.19161626, 0.80236416, 0.19132393,\n",
       "         0.08155262, 0.85522697, 0.8612835 , 0.8765371 , 0.47190972],\n",
       "        [0.27404839, 0.00709183, 0.6457209 , 0.71990938, 0.83556922,\n",
       "         0.28187783, 0.21521817, 0.63933138, 0.80505483, 0.96367087],\n",
       "        [0.15052483, 0.48221239, 0.89471586, 0.42271691, 0.58950206,\n",
       "         0.02449068, 0.67345989, 0.91908862, 0.82682533, 0.88552027],\n",
       "        [0.66035538, 0.24555227, 0.768517  , 0.21167474, 0.83127483,\n",
       "         0.06271792, 0.82548781, 0.16450727, 0.375147  , 0.31673817],\n",
       "        [0.69133704, 0.17857188, 0.39625616, 0.0058246 , 0.26249471,\n",
       "         0.42118881, 0.10592124, 0.63315995, 0.38042427, 0.72529394]]),\n",
       " array([0.65386601, 0.43122675, 0.86732051, 0.63213512, 0.81027435,\n",
       "        0.34179472, 0.54366929, 0.19629689, 0.99614119, 0.24321546]))"
      ]
     },
     "execution_count": 22,
     "metadata": {},
     "output_type": "execute_result"
    }
   ],
   "source": [
    "P = MHP.MHP() # instantiate MHP object\n",
    "P.generate_seq(60) # mu=[0.1], alpha=[[0.5]], and omega=1.0\n",
    "\n",
    "#P.data = data[np.where(data[:,1] == 0)]\n",
    "#P.data[:,1] = 0\n",
    "#print(data[np.where(data[:,1] == 3)])\n",
    "P.mu = [0.1]\n",
    "P.alpha = [0.3]\n",
    "P.omega = 0.5\n",
    "\n",
    "\n",
    "# P.plot_events()\n",
    "# plt.show()\n",
    "\n",
    "seed = 1\n",
    "\n",
    "rng = np.random.default_rng(seed)\n",
    "ahat = rng.uniform(0,1, size=(10,10))\n",
    "mhat = rng.uniform(0,1, size=10)\n",
    "\n",
    "\n",
    "\n",
    "#w = np.linspace(0.1,4.25,100)\n",
    "ahat, mhat"
   ]
  },
  {
   "cell_type": "code",
   "execution_count": 20,
   "id": "4cd87b59",
   "metadata": {},
   "outputs": [
    {
     "data": {
      "text/plain": [
       "array([0.05      , 0.08989899, 0.12979798, 0.16969697, 0.20959596,\n",
       "       0.24949495, 0.28939394, 0.32929293, 0.36919192, 0.40909091,\n",
       "       0.4489899 , 0.48888889, 0.52878788, 0.56868687, 0.60858586,\n",
       "       0.64848485, 0.68838384, 0.72828283, 0.76818182, 0.80808081,\n",
       "       0.8479798 , 0.88787879, 0.92777778, 0.96767677, 1.00757576,\n",
       "       1.04747475, 1.08737374, 1.12727273, 1.16717172, 1.20707071,\n",
       "       1.2469697 , 1.28686869, 1.32676768, 1.36666667, 1.40656566,\n",
       "       1.44646465, 1.48636364, 1.52626263, 1.56616162, 1.60606061,\n",
       "       1.6459596 , 1.68585859, 1.72575758, 1.76565657, 1.80555556,\n",
       "       1.84545455, 1.88535354, 1.92525253, 1.96515152, 2.00505051,\n",
       "       2.04494949, 2.08484848, 2.12474747, 2.16464646, 2.20454545,\n",
       "       2.24444444, 2.28434343, 2.32424242, 2.36414141, 2.4040404 ,\n",
       "       2.44393939, 2.48383838, 2.52373737, 2.56363636, 2.60353535,\n",
       "       2.64343434, 2.68333333, 2.72323232, 2.76313131, 2.8030303 ,\n",
       "       2.84292929, 2.88282828, 2.92272727, 2.96262626, 3.00252525,\n",
       "       3.04242424, 3.08232323, 3.12222222, 3.16212121, 3.2020202 ,\n",
       "       3.24191919, 3.28181818, 3.32171717, 3.36161616, 3.40151515,\n",
       "       3.44141414, 3.48131313, 3.52121212, 3.56111111, 3.6010101 ,\n",
       "       3.64090909, 3.68080808, 3.72070707, 3.76060606, 3.80050505,\n",
       "       3.84040404, 3.88030303, 3.92020202, 3.96010101, 4.        ])"
      ]
     },
     "execution_count": 20,
     "metadata": {},
     "output_type": "execute_result"
    }
   ],
   "source": [
    "w = np.linspace(0.05,4,100) # hyperparameter values chosen for sufficient coverage\n",
    "w"
   ]
  },
  {
   "cell_type": "markdown",
   "id": "a587f110",
   "metadata": {},
   "source": [
    "# Hyperparameter optimisation"
   ]
  },
  {
   "cell_type": "markdown",
   "id": "771afbfe",
   "metadata": {},
   "source": [
    "### Vary hyperparmaeter $\\omega$ to compute log-likelihoods using EM algorithm and find the \"best\" parametric estimate of $\\omega$, i.e., $\\omega$ with least value of log-likelihood"
   ]
  },
  {
   "cell_type": "code",
   "execution_count": 23,
   "id": "288a7364",
   "metadata": {
    "scrolled": false
   },
   "outputs": [
    {
     "data": {
      "application/vnd.jupyter.widget-view+json": {
       "model_id": "950cbbd58dcd4fa09d1e5941062bca2e",
       "version_major": 2,
       "version_minor": 0
      },
      "text/plain": [
       "Canvas(toolbar=Toolbar(toolitems=[('Home', 'Reset original view', 'home', 'home'), ('Back', 'Back to previous …"
      ]
     },
     "metadata": {},
     "output_type": "display_data"
    },
    {
     "name": "stdout",
     "output_type": "stream",
     "text": [
      "Working\n",
      "Working\n",
      "Working\n",
      "Working\n",
      "Working\n",
      "Working\n",
      "Working\n",
      "Working\n",
      "Working\n",
      "Working\n"
     ]
    }
   ],
   "source": [
    "omega_index = [] # store index of best value of omega \n",
    "ahat_vals = [] \n",
    "mhat_vals = []\n",
    "\n",
    "ahat_arr = []; mhat_arr = []\n",
    "LL_arr = []\n",
    "# axes are in a two-dimensional array, indexed by [row, col]\n",
    "fig, axs = plt.subplots(2, 5)\n",
    "\n",
    "node = 0\n",
    "for i in range(2):\n",
    "    axs[i, 0].set_ylabel('Negative log-likelihood')\n",
    "\n",
    "    for j in range(5):\n",
    "        \n",
    "        ahat_arr += [[]]; mhat_arr += [[]]\n",
    "        LL_arr += [[]]; res = []\n",
    "        for w_hyperparam in range(len(w)):\n",
    "            #print(f'hyperparameter omega: ', w[i])\n",
    "            P.data = data[np.where(data[:,1] == node)]\n",
    "            P.data[:,1] = 0\n",
    "            res += [P.EM(np.array([ahat[node]]), np.array([mhat[node]]), w[w_hyperparam], verbose=False, seed1=99,seed2=100)]\n",
    "            ahat_arr[node] += [res[w_hyperparam][0]] \n",
    "            mhat_arr[node] += [res[w_hyperparam][1]]\n",
    "            LL_arr[node] += [-res[w_hyperparam][-1]]\n",
    "            #print(estimates[i])\n",
    "            #print('\\n')\n",
    "        \n",
    "        \n",
    "        \n",
    "#         while abs(LL_arr[count] - LL_arr[-1]) >= epsilon:\n",
    "#             count += 1\n",
    "#         print(abs(LL_arr[count] - LL_arr[-1]))\n",
    "        min_index = np.argmin(LL_arr[node])\n",
    "        omega_index += [min_index]\n",
    "        mhat_vals += [mhat_arr[node][min_index]]\n",
    "        ahat_vals += [ahat_arr[node][min_index]]\n",
    "        \n",
    "        ax = axs[i, j]\n",
    "        ax.plot(w, LL_arr[node])\n",
    "        ax.text(0.7, 0.25, ten_companies[node],transform=ax.transAxes,\n",
    "            fontsize=18,verticalalignment ='bottom',\n",
    "            horizontalalignment ='right', color ='green',)\n",
    "        #axs[i, j].axvline(x=w[count], ymin=LL_arr[count], ymax=LL_arr[0], label=r'$\\hat{\\omega} = $'+str(w[count]), c='b', linestyle='dashed')\n",
    "        \n",
    "        ax.scatter(x=w[min_index],y=LL_arr[node][min_index], c='b',s=80,marker='X',linewidths=1.5)\n",
    "        #ax.plot(w[count],LL_arr[count],color='blue',label=r'$\\hat{\\omega} = $'+str(w[count]),linewidth=2, markersize=50)\n",
    "\n",
    "        node += 1\n",
    "        print('Working')\n",
    "\n",
    "        #ax[i, j].text(0.5, 0.5, str((i, j)), fontsize=18, ha='center')\n",
    "for j in range(5):\n",
    "    axs[1, j].set_xlabel(r'omega, $\\omega$')\n",
    "\n",
    "plt.tight_layout()\n",
    "#plt.savefig('LL_fig_iter6.png')\n",
    "plt.show()\n",
    "plt.ion()"
   ]
  },
  {
   "cell_type": "code",
   "execution_count": null,
   "id": "3695217c",
   "metadata": {},
   "outputs": [],
   "source": []
  },
  {
   "cell_type": "code",
   "execution_count": 24,
   "id": "452bba1c",
   "metadata": {},
   "outputs": [
    {
     "data": {
      "text/plain": [
       "[18, 17, 14, 15, 17, 26, 15, 16, 23, 16]"
      ]
     },
     "execution_count": 24,
     "metadata": {},
     "output_type": "execute_result"
    }
   ],
   "source": [
    "omega_index"
   ]
  },
  {
   "cell_type": "code",
   "execution_count": 52,
   "id": "e6421bcc",
   "metadata": {},
   "outputs": [
    {
     "name": "stdout",
     "output_type": "stream",
     "text": [
      "mu: 0.268\n",
      "mu: 0.712\n",
      "mu: 0.477\n",
      "mu: 0.520\n",
      "mu: 0.863\n",
      "mu: 0.857\n",
      "mu: 0.343\n",
      "mu: 0.439\n",
      "mu: 0.692\n",
      "mu: 0.219\n"
     ]
    }
   ],
   "source": [
    "for i in mhat_vals:\n",
    "    print(r'mu: %.3f' % i[0])"
   ]
  },
  {
   "cell_type": "code",
   "execution_count": 53,
   "id": "39a99d09",
   "metadata": {},
   "outputs": [
    {
     "name": "stdout",
     "output_type": "stream",
     "text": [
      "alpha: 0.871\n",
      "alpha: 0.660\n",
      "alpha: 0.771\n",
      "alpha: 0.750\n",
      "alpha: 0.585\n",
      "alpha: 0.590\n",
      "alpha: 0.834\n",
      "alpha: 0.789\n",
      "alpha: 0.668\n",
      "alpha: 0.894\n"
     ]
    }
   ],
   "source": [
    "for i in ahat_vals:\n",
    "    print(r'alpha: %.3f' % i[0])"
   ]
  },
  {
   "cell_type": "code",
   "execution_count": 54,
   "id": "b76bcab0",
   "metadata": {},
   "outputs": [
    {
     "name": "stdout",
     "output_type": "stream",
     "text": [
      "[0.768 0.728 0.609 0.648 0.728 1.087 0.648 0.688 0.968 0.688]\n"
     ]
    }
   ],
   "source": [
    "with np.printoptions(precision=3, suppress=True):\n",
    "    print(w[omega_index])"
   ]
  },
  {
   "cell_type": "code",
   "execution_count": null,
   "id": "90245166",
   "metadata": {},
   "outputs": [],
   "source": []
  },
  {
   "cell_type": "code",
   "execution_count": null,
   "id": "683bb64f",
   "metadata": {},
   "outputs": [],
   "source": []
  },
  {
   "cell_type": "code",
   "execution_count": null,
   "id": "9290c21f",
   "metadata": {},
   "outputs": [],
   "source": [
    "squad"
   ]
  },
  {
   "cell_type": "code",
   "execution_count": null,
   "id": "0cb8f3fc",
   "metadata": {},
   "outputs": [],
   "source": []
  },
  {
   "cell_type": "code",
   "execution_count": 16,
   "id": "e0871df9",
   "metadata": {},
   "outputs": [
    {
     "name": "stdout",
     "output_type": "stream",
     "text": [
      "[array([0.0692]), array([0.0698]), array([0.0692]), array([0.0694]), array([0.0693]), array([0.0697]), array([0.069]), array([0.0693]), array([0.0694]), array([0.069])]\n"
     ]
    }
   ],
   "source": [
    "sqad "
   ]
  },
  {
   "cell_type": "markdown",
   "id": "468c84d9",
   "metadata": {},
   "source": [
    "### Estimated parameter values:"
   ]
  },
  {
   "cell_type": "code",
   "execution_count": 13,
   "id": "a9faf3a4",
   "metadata": {},
   "outputs": [
    {
     "ename": "NameError",
     "evalue": "name 'omega_index1' is not defined",
     "output_type": "error",
     "traceback": [
      "\u001b[1;31m---------------------------------------------------------------------------\u001b[0m",
      "\u001b[1;31mNameError\u001b[0m                                 Traceback (most recent call last)",
      "\u001b[1;32m<ipython-input-13-b18291e1b27e>\u001b[0m in \u001b[0;36m<module>\u001b[1;34m\u001b[0m\n\u001b[1;32m----> 1\u001b[1;33m \u001b[0momega_index\u001b[0m\u001b[1;33m,\u001b[0m \u001b[0momega_index1\u001b[0m\u001b[1;33m\u001b[0m\u001b[1;33m\u001b[0m\u001b[0m\n\u001b[0m",
      "\u001b[1;31mNameError\u001b[0m: name 'omega_index1' is not defined"
     ]
    }
   ],
   "source": [
    "omega_index, omega_index1"
   ]
  },
  {
   "cell_type": "code",
   "execution_count": 24,
   "id": "ade91723",
   "metadata": {},
   "outputs": [
    {
     "name": "stdout",
     "output_type": "stream",
     "text": [
      "[98, 84, 67, 48, 55, 87, 99, 67, 48, 99]\n"
     ]
    }
   ],
   "source": [
    "with np.printoptions(precision=3, suppress=True):\n",
    "    print(omega_index)\n"
   ]
  },
  {
   "cell_type": "code",
   "execution_count": null,
   "id": "10e33b9c",
   "metadata": {},
   "outputs": [],
   "source": [
    "ahat_vals, ahat_vals1"
   ]
  },
  {
   "cell_type": "code",
   "execution_count": 21,
   "id": "c6ff4bf8",
   "metadata": {},
   "outputs": [
    {
     "name": "stdout",
     "output_type": "stream",
     "text": [
      "[array([0.0692]), array([0.0698]), array([0.0692]), array([0.0694]), array([0.0693]), array([0.069]), array([0.0693]), array([0.0691]), array([0.0694]), array([0.069])]\n",
      "[array([0.0692]), array([0.0698]), array([0.0692]), array([0.0694]), array([0.0693]), array([0.069]), array([0.0693]), array([0.0691]), array([0.0694]), array([0.069])]\n"
     ]
    }
   ],
   "source": [
    "with np.printoptions(precision=4, suppress=True):\n",
    "    print(mhat_vals)\n",
    "    print(mhat_vals1)"
   ]
  },
  {
   "cell_type": "code",
   "execution_count": 17,
   "id": "c9a94e14",
   "metadata": {},
   "outputs": [
    {
     "data": {
      "text/plain": [
       "([array([[1.7809185e-16]]),\n",
       "  array([[1.42325103e-16]]),\n",
       "  array([[5.5695148e-17]]),\n",
       "  array([[9.97180025e-17]]),\n",
       "  array([[1.101146e-16]]),\n",
       "  array([[1.44286708e-16]]),\n",
       "  array([[2.65169285e-09]]),\n",
       "  array([[2.53042991e-17]]),\n",
       "  array([[2.96737679e-17]]),\n",
       "  array([[4.57304226e-14]])],\n",
       " [array([[1.7809185e-16]]),\n",
       "  array([[1.42325103e-16]]),\n",
       "  array([[5.5695148e-17]]),\n",
       "  array([[9.97180025e-17]]),\n",
       "  array([[1.101146e-16]]),\n",
       "  array([[1.44286708e-16]]),\n",
       "  array([[2.65169285e-09]]),\n",
       "  array([[2.53042991e-17]]),\n",
       "  array([[2.96737679e-17]]),\n",
       "  array([[4.57304226e-14]])])"
      ]
     },
     "execution_count": 17,
     "metadata": {},
     "output_type": "execute_result"
    }
   ],
   "source": [
    "ahat_vals, ahat_vals1"
   ]
  },
  {
   "cell_type": "code",
   "execution_count": null,
   "id": "f85429bf",
   "metadata": {},
   "outputs": [],
   "source": [
    "B"
   ]
  },
  {
   "cell_type": "code",
   "execution_count": null,
   "id": "998c70e0",
   "metadata": {},
   "outputs": [],
   "source": [
    "HP.plot_event_times(data, num_of_nodes=10,  Time_horizon=-999, company_ticker=ticker, xaxislabel=r't, number of days since January 3, 2006', show_time_periods=False, labeled=True)"
   ]
  },
  {
   "cell_type": "code",
   "execution_count": null,
   "id": "366842d4",
   "metadata": {},
   "outputs": [],
   "source": [
    "seed = 99\n",
    "ts = np.array([])\n",
    "for i in range(2):\n",
    "    np.append(ts, HP.simulate_timestamps_till_horizon(mhat_vals[i], ahat_vals[i], w[i] , Thorizon = np.amax(data[:,0]), seed=seed, node=i, output_rejected_data=False))\n",
    "ts\n",
    "    "
   ]
  },
  {
   "cell_type": "code",
   "execution_count": null,
   "id": "5d159f36",
   "metadata": {},
   "outputs": [],
   "source": [
    "ts1 = HP.simulate_timestamps_till_horizon(mhat_vals[0], ahat_vals[0], w[0] , Thorizon = np.amax(data[:,0]), seed=None, output_rejected_data=False)\n",
    "ts2 = HP.simulate_timestamps_till_horizon(mhat_vals[1], ahat_vals[0], w[1] , Thorizon = np.amax(data[:,0]), seed=None, output_rejected_data=False)\n",
    "ts3 = HP.simulate_timestamps_till_horizon(mhat_vals[2], ahat_vals[2], w[2] , Thorizon = np.amax(data[:,0]), seed=None, output_rejected_data=False)\n",
    "ts4 = HP.simulate_timestamps_till_horizon(mhat_vals[3], ahat_vals[3], w[3] , Thorizon = np.amax(data[:,0]), seed=None, output_rejected_data=False)\n",
    "ts5 = HP.simulate_timestamps_till_horizon(mhat_vals[4], ahat_vals[4], w[4] , Thorizon = np.amax(data[:,0]), seed=None, output_rejected_data=False)\n",
    "\n",
    "#a_hat_1 = 0.00882517; mhat_vals_1 = 0.06859064; w_1 = 1.5848484848484852\n",
    "\n",
    "plt.plot(ts1,[0]*len(ts1), marker='o')\n",
    "plt.plot(ts2,[-1]*len(ts2), marker='o')\n",
    "plt.plot(ts3,[-2]*len(ts3), marker='o')\n",
    "plt.plot(ts4,[-3]*len(ts4), marker='o')\n",
    "plt.plot(ts5,[-4]*len(ts5), marker='o')"
   ]
  },
  {
   "cell_type": "code",
   "execution_count": null,
   "id": "dec6e4bb",
   "metadata": {},
   "outputs": [],
   "source": [
    "B"
   ]
  },
  {
   "cell_type": "markdown",
   "id": "5082e4a1",
   "metadata": {},
   "source": [
    "# Save this session and load it back"
   ]
  },
  {
   "cell_type": "code",
   "execution_count": 55,
   "id": "7b02088e",
   "metadata": {},
   "outputs": [],
   "source": [
    "import dill\n",
    "dill.dump_session('DJIA_univHP_env_September_version2.db')"
   ]
  },
  {
   "cell_type": "code",
   "execution_count": 4,
   "id": "058bdb83",
   "metadata": {},
   "outputs": [
    {
     "data": {
      "application/vnd.jupyter.widget-view+json": {
       "model_id": "38faf842708e4fc5b7a521d2d9a1bf48",
       "version_major": 2,
       "version_minor": 0
      },
      "text/plain": [
       "Canvas(toolbar=Toolbar(toolitems=[('Home', 'Reset original view', 'home', 'home'), ('Back', 'Back to previous …"
      ]
     },
     "metadata": {},
     "output_type": "display_data"
    }
   ],
   "source": [
    "#dill.load_session('DJIA_univHP_env_September_version2.db')"
   ]
  },
  {
   "cell_type": "code",
   "execution_count": null,
   "id": "c38f3949",
   "metadata": {},
   "outputs": [],
   "source": []
  },
  {
   "cell_type": "code",
   "execution_count": null,
   "id": "ba4988d5",
   "metadata": {},
   "outputs": [],
   "source": []
  },
  {
   "cell_type": "code",
   "execution_count": null,
   "id": "34b3e9d2",
   "metadata": {},
   "outputs": [],
   "source": []
  },
  {
   "cell_type": "code",
   "execution_count": null,
   "id": "d1aa743e",
   "metadata": {},
   "outputs": [],
   "source": []
  }
 ],
 "metadata": {
  "kernelspec": {
   "display_name": "Python 3",
   "language": "python",
   "name": "python3"
  },
  "language_info": {
   "codemirror_mode": {
    "name": "ipython",
    "version": 3
   },
   "file_extension": ".py",
   "mimetype": "text/x-python",
   "name": "python",
   "nbconvert_exporter": "python",
   "pygments_lexer": "ipython3",
   "version": "3.7.11"
  }
 },
 "nbformat": 4,
 "nbformat_minor": 5
}
