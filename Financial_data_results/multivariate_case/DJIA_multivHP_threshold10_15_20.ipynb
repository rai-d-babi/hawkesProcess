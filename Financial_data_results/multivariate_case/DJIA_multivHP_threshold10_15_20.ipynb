{
 "cells": [
  {
   "cell_type": "code",
   "execution_count": 1,
   "id": "2db9d2df",
   "metadata": {},
   "outputs": [],
   "source": [
    "# install packages and libraries\n",
    "%matplotlib inline\n",
    "%matplotlib widget\n",
    "\n",
    "import pandas as pd\n",
    "import numpy as np\n",
    "import matplotlib.pyplot as plt\n",
    "#plt.rcParams[\"figure.figsize\"] = (11, 5)  #set default figure size\n",
    "\n",
    "plt.rcParams[\"figure.figsize\"] = (16, 9) #set default figure size (w, h) \n",
    "plt.style.use(\"ggplot\")\n",
    "import numpy.matlib\n",
    "import copy\n",
    "import scipy.sparse as sparse\n",
    "from numpy.random import default_rng\n",
    "import time"
   ]
  },
  {
   "cell_type": "code",
   "execution_count": 2,
   "id": "010cb328",
   "metadata": {},
   "outputs": [],
   "source": [
    "import sys # importing sys\n",
    "  \n",
    "# adding Latest_scripts to the system path\n",
    "sys.path.insert(0, '../Latest_scripts/')\n",
    "sys.path.insert(0, '../../../ExternalHP_Codes/SteveMorse/hawkes-master/')\n",
    "\n",
    "import HP_scripts as HP # import module containing functions for the Masters project\n",
    "import MHP as MHP # import module containing EM functions from Steve Morse for the Masters project"
   ]
  },
  {
   "cell_type": "markdown",
   "id": "3be16621",
   "metadata": {},
   "source": [
    "# Load previous session"
   ]
  },
  {
   "cell_type": "code",
   "execution_count": 4,
   "id": "012512c8",
   "metadata": {},
   "outputs": [
    {
     "data": {
      "application/vnd.jupyter.widget-view+json": {
       "model_id": "76afac28643a42968037809d5e6b922d",
       "version_major": 2,
       "version_minor": 0
      },
      "text/plain": [
       "Canvas(toolbar=Toolbar(toolitems=[('Home', 'Reset original view', 'home', 'home'), ('Back', 'Back to previous …"
      ]
     },
     "metadata": {},
     "output_type": "display_data"
    },
    {
     "data": {
      "application/vnd.jupyter.widget-view+json": {
       "model_id": "0c21971cc6b04120bae04254911022a4",
       "version_major": 2,
       "version_minor": 0
      },
      "text/plain": [
       "Canvas(toolbar=Toolbar(toolitems=[('Home', 'Reset original view', 'home', 'home'), ('Back', 'Back to previous …"
      ]
     },
     "metadata": {},
     "output_type": "display_data"
    }
   ],
   "source": [
    "import dill\n",
    "#dill.dump_session('DJIA_multivHP_10_15_20_September_v2_random10.db')\n",
    "dill.load_session('DJIA_multivHP_10_15_20_September_v1.db')"
   ]
  },
  {
   "cell_type": "markdown",
   "id": "e5b83193",
   "metadata": {},
   "source": [
    "### Load the data discussed and analysed in https://methods.sagepub.com/dataset/howtoguide/multivariate-hawkes-in-djia-2018#i100"
   ]
  },
  {
   "cell_type": "markdown",
   "id": "3d75ad3d",
   "metadata": {},
   "source": []
  },
  {
   "cell_type": "code",
   "execution_count": 3,
   "id": "b651f936",
   "metadata": {},
   "outputs": [
    {
     "data": {
      "text/html": [
       "<div>\n",
       "<style scoped>\n",
       "    .dataframe tbody tr th:only-of-type {\n",
       "        vertical-align: middle;\n",
       "    }\n",
       "\n",
       "    .dataframe tbody tr th {\n",
       "        vertical-align: top;\n",
       "    }\n",
       "\n",
       "    .dataframe thead th {\n",
       "        text-align: right;\n",
       "    }\n",
       "</style>\n",
       "<table border=\"1\" class=\"dataframe\">\n",
       "  <thead>\n",
       "    <tr style=\"text-align: right;\">\n",
       "      <th></th>\n",
       "      <th>AABA</th>\n",
       "      <th>AAPL</th>\n",
       "      <th>AMZN</th>\n",
       "      <th>AXP</th>\n",
       "      <th>BA</th>\n",
       "      <th>CAT</th>\n",
       "      <th>CSCO</th>\n",
       "      <th>CVX</th>\n",
       "      <th>DIS</th>\n",
       "      <th>GE</th>\n",
       "      <th>...</th>\n",
       "      <th>MSFT</th>\n",
       "      <th>NKE</th>\n",
       "      <th>PFE</th>\n",
       "      <th>PG</th>\n",
       "      <th>TRV</th>\n",
       "      <th>UNH</th>\n",
       "      <th>UTX</th>\n",
       "      <th>VZ</th>\n",
       "      <th>WMT</th>\n",
       "      <th>XOM</th>\n",
       "    </tr>\n",
       "  </thead>\n",
       "  <tbody>\n",
       "    <tr>\n",
       "      <th>0</th>\n",
       "      <td>40.91</td>\n",
       "      <td>10.68</td>\n",
       "      <td>47.58</td>\n",
       "      <td>52.58</td>\n",
       "      <td>70.44</td>\n",
       "      <td>57.80</td>\n",
       "      <td>17.45</td>\n",
       "      <td>59.08</td>\n",
       "      <td>24.40</td>\n",
       "      <td>35.37</td>\n",
       "      <td>...</td>\n",
       "      <td>26.84</td>\n",
       "      <td>10.74</td>\n",
       "      <td>23.78</td>\n",
       "      <td>58.78</td>\n",
       "      <td>45.99</td>\n",
       "      <td>61.73</td>\n",
       "      <td>56.53</td>\n",
       "      <td>30.38</td>\n",
       "      <td>46.23</td>\n",
       "      <td>58.47</td>\n",
       "    </tr>\n",
       "    <tr>\n",
       "      <th>1</th>\n",
       "      <td>40.97</td>\n",
       "      <td>10.71</td>\n",
       "      <td>47.25</td>\n",
       "      <td>51.95</td>\n",
       "      <td>71.17</td>\n",
       "      <td>59.27</td>\n",
       "      <td>17.85</td>\n",
       "      <td>58.91</td>\n",
       "      <td>23.99</td>\n",
       "      <td>35.32</td>\n",
       "      <td>...</td>\n",
       "      <td>26.97</td>\n",
       "      <td>10.69</td>\n",
       "      <td>24.55</td>\n",
       "      <td>58.89</td>\n",
       "      <td>46.50</td>\n",
       "      <td>61.88</td>\n",
       "      <td>56.19</td>\n",
       "      <td>31.27</td>\n",
       "      <td>46.32</td>\n",
       "      <td>58.57</td>\n",
       "    </tr>\n",
       "    <tr>\n",
       "      <th>2</th>\n",
       "      <td>41.53</td>\n",
       "      <td>10.63</td>\n",
       "      <td>47.65</td>\n",
       "      <td>52.50</td>\n",
       "      <td>70.33</td>\n",
       "      <td>59.27</td>\n",
       "      <td>18.35</td>\n",
       "      <td>58.19</td>\n",
       "      <td>24.41</td>\n",
       "      <td>35.23</td>\n",
       "      <td>...</td>\n",
       "      <td>26.99</td>\n",
       "      <td>10.76</td>\n",
       "      <td>24.58</td>\n",
       "      <td>58.70</td>\n",
       "      <td>46.95</td>\n",
       "      <td>61.69</td>\n",
       "      <td>55.98</td>\n",
       "      <td>31.63</td>\n",
       "      <td>45.69</td>\n",
       "      <td>58.28</td>\n",
       "    </tr>\n",
       "    <tr>\n",
       "      <th>3</th>\n",
       "      <td>43.21</td>\n",
       "      <td>10.90</td>\n",
       "      <td>47.87</td>\n",
       "      <td>52.68</td>\n",
       "      <td>69.35</td>\n",
       "      <td>60.45</td>\n",
       "      <td>18.77</td>\n",
       "      <td>59.25</td>\n",
       "      <td>24.74</td>\n",
       "      <td>35.47</td>\n",
       "      <td>...</td>\n",
       "      <td>26.91</td>\n",
       "      <td>10.72</td>\n",
       "      <td>24.85</td>\n",
       "      <td>58.64</td>\n",
       "      <td>47.21</td>\n",
       "      <td>62.90</td>\n",
       "      <td>56.16</td>\n",
       "      <td>31.35</td>\n",
       "      <td>45.88</td>\n",
       "      <td>59.43</td>\n",
       "    </tr>\n",
       "    <tr>\n",
       "      <th>4</th>\n",
       "      <td>43.42</td>\n",
       "      <td>10.86</td>\n",
       "      <td>47.08</td>\n",
       "      <td>53.99</td>\n",
       "      <td>68.77</td>\n",
       "      <td>61.55</td>\n",
       "      <td>19.06</td>\n",
       "      <td>58.95</td>\n",
       "      <td>25.00</td>\n",
       "      <td>35.38</td>\n",
       "      <td>...</td>\n",
       "      <td>26.86</td>\n",
       "      <td>10.88</td>\n",
       "      <td>24.85</td>\n",
       "      <td>59.08</td>\n",
       "      <td>47.23</td>\n",
       "      <td>61.40</td>\n",
       "      <td>56.80</td>\n",
       "      <td>31.48</td>\n",
       "      <td>45.71</td>\n",
       "      <td>59.40</td>\n",
       "    </tr>\n",
       "    <tr>\n",
       "      <th>...</th>\n",
       "      <td>...</td>\n",
       "      <td>...</td>\n",
       "      <td>...</td>\n",
       "      <td>...</td>\n",
       "      <td>...</td>\n",
       "      <td>...</td>\n",
       "      <td>...</td>\n",
       "      <td>...</td>\n",
       "      <td>...</td>\n",
       "      <td>...</td>\n",
       "      <td>...</td>\n",
       "      <td>...</td>\n",
       "      <td>...</td>\n",
       "      <td>...</td>\n",
       "      <td>...</td>\n",
       "      <td>...</td>\n",
       "      <td>...</td>\n",
       "      <td>...</td>\n",
       "      <td>...</td>\n",
       "      <td>...</td>\n",
       "      <td>...</td>\n",
       "    </tr>\n",
       "    <tr>\n",
       "      <th>3015</th>\n",
       "      <td>71.58</td>\n",
       "      <td>175.01</td>\n",
       "      <td>1168.36</td>\n",
       "      <td>98.74</td>\n",
       "      <td>295.10</td>\n",
       "      <td>155.75</td>\n",
       "      <td>38.55</td>\n",
       "      <td>124.98</td>\n",
       "      <td>108.67</td>\n",
       "      <td>17.50</td>\n",
       "      <td>...</td>\n",
       "      <td>85.51</td>\n",
       "      <td>63.29</td>\n",
       "      <td>36.14</td>\n",
       "      <td>92.13</td>\n",
       "      <td>134.39</td>\n",
       "      <td>220.00</td>\n",
       "      <td>127.23</td>\n",
       "      <td>53.19</td>\n",
       "      <td>98.21</td>\n",
       "      <td>83.97</td>\n",
       "    </tr>\n",
       "    <tr>\n",
       "      <th>3016</th>\n",
       "      <td>69.86</td>\n",
       "      <td>170.57</td>\n",
       "      <td>1176.76</td>\n",
       "      <td>98.57</td>\n",
       "      <td>295.36</td>\n",
       "      <td>156.44</td>\n",
       "      <td>38.48</td>\n",
       "      <td>125.98</td>\n",
       "      <td>108.12</td>\n",
       "      <td>17.43</td>\n",
       "      <td>...</td>\n",
       "      <td>85.40</td>\n",
       "      <td>63.65</td>\n",
       "      <td>36.21</td>\n",
       "      <td>92.48</td>\n",
       "      <td>134.78</td>\n",
       "      <td>219.60</td>\n",
       "      <td>127.14</td>\n",
       "      <td>53.22</td>\n",
       "      <td>99.16</td>\n",
       "      <td>83.98</td>\n",
       "    </tr>\n",
       "    <tr>\n",
       "      <th>3017</th>\n",
       "      <td>70.06</td>\n",
       "      <td>170.60</td>\n",
       "      <td>1182.26</td>\n",
       "      <td>99.13</td>\n",
       "      <td>295.62</td>\n",
       "      <td>157.52</td>\n",
       "      <td>38.56</td>\n",
       "      <td>125.55</td>\n",
       "      <td>107.64</td>\n",
       "      <td>17.38</td>\n",
       "      <td>...</td>\n",
       "      <td>85.71</td>\n",
       "      <td>62.95</td>\n",
       "      <td>36.33</td>\n",
       "      <td>92.10</td>\n",
       "      <td>134.77</td>\n",
       "      <td>220.42</td>\n",
       "      <td>127.58</td>\n",
       "      <td>53.28</td>\n",
       "      <td>99.26</td>\n",
       "      <td>83.90</td>\n",
       "    </tr>\n",
       "    <tr>\n",
       "      <th>3018</th>\n",
       "      <td>69.82</td>\n",
       "      <td>171.08</td>\n",
       "      <td>1186.10</td>\n",
       "      <td>99.70</td>\n",
       "      <td>296.35</td>\n",
       "      <td>158.42</td>\n",
       "      <td>38.59</td>\n",
       "      <td>125.58</td>\n",
       "      <td>107.77</td>\n",
       "      <td>17.36</td>\n",
       "      <td>...</td>\n",
       "      <td>85.72</td>\n",
       "      <td>62.95</td>\n",
       "      <td>36.37</td>\n",
       "      <td>92.07</td>\n",
       "      <td>135.66</td>\n",
       "      <td>222.77</td>\n",
       "      <td>128.12</td>\n",
       "      <td>53.43</td>\n",
       "      <td>99.40</td>\n",
       "      <td>84.02</td>\n",
       "    </tr>\n",
       "    <tr>\n",
       "      <th>3019</th>\n",
       "      <td>69.85</td>\n",
       "      <td>169.23</td>\n",
       "      <td>1169.47</td>\n",
       "      <td>99.31</td>\n",
       "      <td>294.91</td>\n",
       "      <td>157.58</td>\n",
       "      <td>38.30</td>\n",
       "      <td>125.19</td>\n",
       "      <td>107.51</td>\n",
       "      <td>17.45</td>\n",
       "      <td>...</td>\n",
       "      <td>85.54</td>\n",
       "      <td>62.55</td>\n",
       "      <td>36.22</td>\n",
       "      <td>91.88</td>\n",
       "      <td>135.64</td>\n",
       "      <td>220.46</td>\n",
       "      <td>127.57</td>\n",
       "      <td>52.93</td>\n",
       "      <td>98.75</td>\n",
       "      <td>83.64</td>\n",
       "    </tr>\n",
       "  </tbody>\n",
       "</table>\n",
       "<p>3020 rows × 31 columns</p>\n",
       "</div>"
      ],
      "text/plain": [
       "       AABA    AAPL     AMZN    AXP      BA     CAT   CSCO     CVX     DIS  \\\n",
       "0     40.91   10.68    47.58  52.58   70.44   57.80  17.45   59.08   24.40   \n",
       "1     40.97   10.71    47.25  51.95   71.17   59.27  17.85   58.91   23.99   \n",
       "2     41.53   10.63    47.65  52.50   70.33   59.27  18.35   58.19   24.41   \n",
       "3     43.21   10.90    47.87  52.68   69.35   60.45  18.77   59.25   24.74   \n",
       "4     43.42   10.86    47.08  53.99   68.77   61.55  19.06   58.95   25.00   \n",
       "...     ...     ...      ...    ...     ...     ...    ...     ...     ...   \n",
       "3015  71.58  175.01  1168.36  98.74  295.10  155.75  38.55  124.98  108.67   \n",
       "3016  69.86  170.57  1176.76  98.57  295.36  156.44  38.48  125.98  108.12   \n",
       "3017  70.06  170.60  1182.26  99.13  295.62  157.52  38.56  125.55  107.64   \n",
       "3018  69.82  171.08  1186.10  99.70  296.35  158.42  38.59  125.58  107.77   \n",
       "3019  69.85  169.23  1169.47  99.31  294.91  157.58  38.30  125.19  107.51   \n",
       "\n",
       "         GE  ...   MSFT    NKE    PFE     PG     TRV     UNH     UTX     VZ  \\\n",
       "0     35.37  ...  26.84  10.74  23.78  58.78   45.99   61.73   56.53  30.38   \n",
       "1     35.32  ...  26.97  10.69  24.55  58.89   46.50   61.88   56.19  31.27   \n",
       "2     35.23  ...  26.99  10.76  24.58  58.70   46.95   61.69   55.98  31.63   \n",
       "3     35.47  ...  26.91  10.72  24.85  58.64   47.21   62.90   56.16  31.35   \n",
       "4     35.38  ...  26.86  10.88  24.85  59.08   47.23   61.40   56.80  31.48   \n",
       "...     ...  ...    ...    ...    ...    ...     ...     ...     ...    ...   \n",
       "3015  17.50  ...  85.51  63.29  36.14  92.13  134.39  220.00  127.23  53.19   \n",
       "3016  17.43  ...  85.40  63.65  36.21  92.48  134.78  219.60  127.14  53.22   \n",
       "3017  17.38  ...  85.71  62.95  36.33  92.10  134.77  220.42  127.58  53.28   \n",
       "3018  17.36  ...  85.72  62.95  36.37  92.07  135.66  222.77  128.12  53.43   \n",
       "3019  17.45  ...  85.54  62.55  36.22  91.88  135.64  220.46  127.57  52.93   \n",
       "\n",
       "        WMT    XOM  \n",
       "0     46.23  58.47  \n",
       "1     46.32  58.57  \n",
       "2     45.69  58.28  \n",
       "3     45.88  59.43  \n",
       "4     45.71  59.40  \n",
       "...     ...    ...  \n",
       "3015  98.21  83.97  \n",
       "3016  99.16  83.98  \n",
       "3017  99.26  83.90  \n",
       "3018  99.40  84.02  \n",
       "3019  98.75  83.64  \n",
       "\n",
       "[3020 rows x 31 columns]"
      ]
     },
     "execution_count": 3,
     "metadata": {},
     "output_type": "execute_result"
    }
   ],
   "source": [
    "# Read data\n",
    "# Import the data as a dataframe (2D data structure with labelled axes)\n",
    "\n",
    "df = pd.read_csv('financial_data/dataset-djia-2018-subset2.csv')\n",
    "dates = pd.to_datetime(df['Date']) # set dates as the Date of closing price column\n",
    "\n",
    "\n",
    "del df['Date'] # delete Date column\n",
    "\n",
    "# Fill missing values\n",
    "df.ffill(inplace=True)\n",
    "df"
   ]
  },
  {
   "cell_type": "code",
   "execution_count": 4,
   "id": "b528bf9d",
   "metadata": {},
   "outputs": [],
   "source": [
    "# Google and amazon are not in DJIA list\n",
    "\n",
    "ten_companies = ['AAPL','MSFT', 'JPM', 'GS', 'PFE', 'MRK', 'NKE', 'HD',  'GOOGL','AMZN']"
   ]
  },
  {
   "cell_type": "markdown",
   "id": "22fa07db",
   "metadata": {},
   "source": [
    "## Events: 10% price-drop"
   ]
  },
  {
   "cell_type": "code",
   "execution_count": 8,
   "id": "248cb84f",
   "metadata": {},
   "outputs": [],
   "source": [
    "# Collect event times\n",
    "\n",
    "t_i_10=[]\n",
    "u_i_10=[] # collect marker for each event times\n",
    "\n",
    "ticker_id = [] # collect integer marker of each stock, index correspodns to stock AABA, 1 correponds to stock AAPL\n",
    "ticker = []\n",
    "ticker_dict = {} # collect key-value pairs where key represents tikcer of a stock and it's corresponding value an integer marker\n",
    "\n",
    "\n",
    "for u,col in enumerate(df[ten_companies]):\n",
    "    Tdiff_10 = df[col].diff()\n",
    "    timestamps_10=dates[Tdiff_10<=Tdiff_10.quantile(0.1)] # return timestamps where subsequent price difference were less than 10th percentile of the whole return series\n",
    "    t_i_10.extend((timestamps_10 - pd.Timestamp(2006,1,3)).dt.days.astype(float)) # t_i contains timestamps of all extreme price-drops for all \n",
    "    u_i_10.extend(np.repeat(u,len(timestamps_10)))\n",
    "    ticker_dict[col] = u\n",
    "    ticker_id += [u]\n",
    "    ticker += [col]\n",
    "\n",
    "\n",
    "seed = 10\n",
    "np.random.seed(seed)\n",
    "\n",
    "t_i_10= (np.array(t_i_10))/30+np.random.rand(len(t_i_10))\n",
    "u_i_10=np.array(u_i_10)\n",
    "perm = np.argsort(t_i_10)\n",
    "t_i_10 = t_i_10[perm] # superposed timestamps\n",
    "u_i_10 = u_i_10[perm]"
   ]
  },
  {
   "cell_type": "markdown",
   "id": "4f68959c",
   "metadata": {},
   "source": [
    "### Reshape timestamps and marker data into the form of Steve Morse's EM code"
   ]
  },
  {
   "cell_type": "code",
   "execution_count": 10,
   "id": "80edb3cc",
   "metadata": {},
   "outputs": [
    {
     "data": {
      "text/plain": [
       "array([[0.43677219292984165, array([4])],\n",
       "       [0.6543285601112814, array([8])],\n",
       "       [0.8872564525116836, array([7])],\n",
       "       ...,\n",
       "       [146.40395017603421, array([4])],\n",
       "       [146.49618469324798, array([9])],\n",
       "       [146.73634087005024, array([0])]], dtype=object)"
      ]
     },
     "execution_count": 10,
     "metadata": {},
     "output_type": "execute_result"
    }
   ],
   "source": [
    "data10 = []\n",
    "counter = 0\n",
    "for t,u in zip(t_i_10, u_i_10):\n",
    "    data10.append([])\n",
    "    data10[counter] += [t, np.array([u], dtype='int')]\n",
    "    counter += 1\n",
    "\n",
    "\n",
    "data10 = np.array(data10)\n",
    "data10"
   ]
  },
  {
   "cell_type": "markdown",
   "id": "be1343f8",
   "metadata": {},
   "source": [
    "## Total number of observations for events of 10% price-drops were "
   ]
  },
  {
   "cell_type": "markdown",
   "id": "4ed550b7",
   "metadata": {},
   "source": [
    "## Events: 15% price-drop"
   ]
  },
  {
   "cell_type": "code",
   "execution_count": 18,
   "id": "1c348d02",
   "metadata": {},
   "outputs": [],
   "source": [
    "# Collect event times\n",
    "\n",
    "t_i_15=[]\n",
    "u_i_15=[] # collect marker for each event times\n",
    "\n",
    "ticker_id = [] # collect integer marker of each stock, index correspodns to stock AABA, 1 correponds to stock AAPL\n",
    "ticker = []\n",
    "ticker_dict = {} # collect key-value pairs where key represents tikcer of a stock and it's corresponding value an integer marker\n",
    "\n",
    "\n",
    "for u,col in enumerate(df[ten_companies]):\n",
    "    Tdiff_15 = df[col].diff()\n",
    "    timestamps_15=dates[Tdiff_15<=Tdiff_15.quantile(0.15)] # return timestamps where subsequent price difference were less than 10th percentile of the whole return series\n",
    "    t_i_15.extend((timestamps_15 - pd.Timestamp(2006,1,3)).dt.days.astype(float)) # t_i contains timestamps of all extreme price-drops for all \n",
    "    u_i_15.extend(np.repeat(u,len(timestamps_15)))\n",
    "    ticker_dict[col] = u\n",
    "    ticker_id += [u]\n",
    "    ticker += [col]\n",
    "\n",
    "\n",
    "seed = 10\n",
    "np.random.seed(seed)\n",
    "\n",
    "t_i_15=(np.array(t_i_15))/30+np.random.rand(len(t_i_15))\n",
    "u_i_15=np.array(u_i_15)\n",
    "perm = np.argsort(t_i_15)\n",
    "t_i_15 = t_i_15[perm] # superposed timestamps\n",
    "u_i_15 = u_i_15[perm]"
   ]
  },
  {
   "cell_type": "markdown",
   "id": "06afc5fb",
   "metadata": {},
   "source": [
    "### Reshape timestamps and marker data into the form of Steve Morse's EM code"
   ]
  },
  {
   "cell_type": "code",
   "execution_count": 20,
   "id": "dddccc54",
   "metadata": {},
   "outputs": [
    {
     "data": {
      "text/plain": [
       "(4540, 2)"
      ]
     },
     "execution_count": 20,
     "metadata": {},
     "output_type": "execute_result"
    }
   ],
   "source": [
    "data15 = []\n",
    "counter = 0\n",
    "for t,u in zip(t_i_15, u_i_15):\n",
    "    data15.append([])\n",
    "    data15[counter] += [t, np.array([u], dtype='int')]\n",
    "    counter += 1\n",
    "\n",
    "\n",
    "data15 = np.array(data15)\n",
    "data15.shape"
   ]
  },
  {
   "cell_type": "markdown",
   "id": "05f04563",
   "metadata": {},
   "source": [
    "## Total number of observations for events of 15% price-drops were 4540"
   ]
  },
  {
   "cell_type": "markdown",
   "id": "02ed9c56",
   "metadata": {},
   "source": [
    "## Events: 20% price-drop"
   ]
  },
  {
   "cell_type": "code",
   "execution_count": 21,
   "id": "b2bff02c",
   "metadata": {},
   "outputs": [],
   "source": [
    "# Collect event times\n",
    "\n",
    "t_i=[]\n",
    "u_i=[] # collect marker for each event times\n",
    "\n",
    "ticker_id = [] # collect integer marker of each stock, index correspodns to stock AABA, 1 correponds to stock AAPL\n",
    "ticker = []\n",
    "ticker_dict = {} # collect key-value pairs where key represents tikcer of a stock and it's corresponding value an integer marker\n",
    "\n",
    "\n",
    "for u,col in enumerate(df[ten_companies]):\n",
    "    Tdiff = df[col].diff()\n",
    "    timestamps=dates[Tdiff<=Tdiff.quantile(0.2)] # return timestamps where subsequent price difference were less than 10th percentile of the whole return series\n",
    "    t_i.extend((timestamps - pd.Timestamp(2006,1,3)).dt.days.astype(float)) # t_i contains timestamps of all extreme price-drops for all \n",
    "    u_i.extend(np.repeat(u,len(timestamps)))\n",
    "    ticker_dict[col] = u\n",
    "    ticker_id += [u]\n",
    "    ticker += [col]\n",
    "\n",
    "\n",
    "seed = 10\n",
    "np.random.seed(seed)\n",
    "t_i=(np.array(t_i))/30+np.random.rand(len(t_i))\n",
    "u_i=np.array(u_i)\n",
    "perm = np.argsort(t_i)\n",
    "t_i = t_i[perm] # superposed timestamps\n",
    "u_i = u_i[perm]"
   ]
  },
  {
   "cell_type": "markdown",
   "id": "2aafcc8f",
   "metadata": {},
   "source": [
    "### Reshape timestamps and marker data into the form of Steve Morse's EM code"
   ]
  },
  {
   "cell_type": "code",
   "execution_count": 23,
   "id": "104ee2a6",
   "metadata": {},
   "outputs": [
    {
     "data": {
      "text/plain": [
       "(6075, 2)"
      ]
     },
     "execution_count": 23,
     "metadata": {},
     "output_type": "execute_result"
    }
   ],
   "source": [
    "data20 = []\n",
    "counter = 0\n",
    "for t,u in zip(t_i, u_i):\n",
    "    data20.append([])\n",
    "    data20[counter] += [t, np.array([u], dtype='int')]\n",
    "    counter += 1\n",
    "\n",
    "\n",
    "data20 = np.array(data20)\n",
    "data20.shape"
   ]
  },
  {
   "cell_type": "markdown",
   "id": "8fa48864",
   "metadata": {},
   "source": [
    "## Total number of observations for events of 20% price-drops were 6075"
   ]
  },
  {
   "cell_type": "code",
   "execution_count": null,
   "id": "089198f3",
   "metadata": {},
   "outputs": [],
   "source": []
  },
  {
   "cell_type": "markdown",
   "id": "ac64385f",
   "metadata": {},
   "source": [
    "# Model 10 price series as Multivariate HP and apply EM algorithm to perform parameter estimation of the multivariate HP for 10% quantile"
   ]
  },
  {
   "cell_type": "code",
   "execution_count": 11,
   "id": "883b1345",
   "metadata": {},
   "outputs": [
    {
     "name": "stdout",
     "output_type": "stream",
     "text": [
      "Max eigenvalue: 0.50000\n"
     ]
    },
    {
     "data": {
      "text/plain": [
       "array([[8.351037185827542, array([0])],\n",
       "       [11.752874639406835, array([0])]], dtype=object)"
      ]
     },
     "execution_count": 11,
     "metadata": {},
     "output_type": "execute_result"
    }
   ],
   "source": [
    "P_multiv10 = MHP.MHP() # instantiate MHP object\n",
    "P_multiv10.generate_seq(20) # mu=[0.1], alpha=[[0.5]], and omega=1.0"
   ]
  },
  {
   "cell_type": "code",
   "execution_count": 12,
   "id": "d98796cd",
   "metadata": {},
   "outputs": [
    {
     "data": {
      "text/plain": [
       "array([[0.43677219292984165, array([4])],\n",
       "       [0.6543285601112814, array([8])],\n",
       "       [0.8872564525116836, array([7])],\n",
       "       ...,\n",
       "       [146.40395017603421, array([4])],\n",
       "       [146.49618469324798, array([9])],\n",
       "       [146.73634087005024, array([0])]], dtype=object)"
      ]
     },
     "execution_count": 12,
     "metadata": {},
     "output_type": "execute_result"
    }
   ],
   "source": [
    "P_multiv10.data = data10\n",
    "P_multiv10.data"
   ]
  },
  {
   "cell_type": "code",
   "execution_count": 16,
   "id": "fb4ca00e",
   "metadata": {},
   "outputs": [],
   "source": [
    "seed = 99\n",
    "rng = np.random.default_rng(None)\n",
    "ahat = rng.uniform(0.1,1, size=(10,10))\n",
    "mhat = rng.uniform(0.1,1, size=10)\n",
    "w_hyperparam = np.linspace(0.5,5,100)"
   ]
  },
  {
   "cell_type": "code",
   "execution_count": 15,
   "id": "44097759",
   "metadata": {},
   "outputs": [
    {
     "data": {
      "text/plain": [
       "array([0.5, 1. , 1.5, 2. , 2.5, 3. , 3.5, 4. , 4.5, 5. ])"
      ]
     },
     "execution_count": 15,
     "metadata": {},
     "output_type": "execute_result"
    }
   ],
   "source": [
    "w_hyperparam"
   ]
  },
  {
   "cell_type": "code",
   "execution_count": 17,
   "id": "5edefe52",
   "metadata": {},
   "outputs": [
    {
     "name": "stdout",
     "output_type": "stream",
     "text": [
      "Execution time in minutes: 45.02928173144658\n"
     ]
    }
   ],
   "source": [
    "startTime = time.time() # start timer\n",
    "\n",
    "omega_index10 = 0 # store index of best value of omega \n",
    "ahat_vals10 = [] \n",
    "mhat_vals10 = []\n",
    "\n",
    "ahat_arr10 = []; mhat_arr10 = []\n",
    "LL_arr10 = []; res10 = []\n",
    "\n",
    "\n",
    "\n",
    "for w in range(len(w_hyperparam)):\n",
    "    #print(f'hyperparameter omega: ', w[i])\n",
    "\n",
    "    res10 += [P_multiv10.EM(ahat, mhat, w_hyperparam[w], verbose=False)]\n",
    "    ahat_arr10 += [res10[w][0]] \n",
    "    mhat_arr10 += [res10[w][1]]\n",
    "    LL_arr10 += [-res10[w][-1]] # negative log-likelihood\n",
    "\n",
    "executionTime = (time.time() - startTime) # stoper timer and measure the execution time\n",
    "print('Execution time in minutes: ' + str(executionTime/60))"
   ]
  },
  {
   "cell_type": "code",
   "execution_count": null,
   "id": "3c5952f2",
   "metadata": {},
   "outputs": [],
   "source": []
  },
  {
   "cell_type": "markdown",
   "id": "bb495319",
   "metadata": {},
   "source": [
    "# Model 10 price series as Multivariate HP and apply EM algorithm to perform parameter estimation of the multivariate HP for 15% quantile"
   ]
  },
  {
   "cell_type": "code",
   "execution_count": 24,
   "id": "200d071f",
   "metadata": {
    "scrolled": true
   },
   "outputs": [
    {
     "name": "stdout",
     "output_type": "stream",
     "text": [
      "Max eigenvalue: 0.50000\n"
     ]
    },
    {
     "data": {
      "text/plain": [
       "array([[2.8461913750448753, array([0])],\n",
       "       [3.4172613513284866, array([0])],\n",
       "       [11.578753719767796, array([0])]], dtype=object)"
      ]
     },
     "execution_count": 24,
     "metadata": {},
     "output_type": "execute_result"
    }
   ],
   "source": [
    "P_multiv15 = MHP.MHP() # instantiate MHP object\n",
    "P_multiv15.generate_seq(20) # mu=[0.1], alpha=[[0.5]], and omega=1.0"
   ]
  },
  {
   "cell_type": "code",
   "execution_count": 25,
   "id": "54bd7acd",
   "metadata": {},
   "outputs": [
    {
     "data": {
      "text/plain": [
       "array([[0.6405126057470842, array([4])],\n",
       "       [0.7673582755676893, array([4])],\n",
       "       [0.9169544297635996, array([7])],\n",
       "       ...,\n",
       "       [146.72738164110842, array([6])],\n",
       "       [146.781537931665, array([2])],\n",
       "       [146.9003790865634, array([0])]], dtype=object)"
      ]
     },
     "execution_count": 25,
     "metadata": {},
     "output_type": "execute_result"
    }
   ],
   "source": [
    "P_multiv15.data = data15\n",
    "P_multiv15.data"
   ]
  },
  {
   "cell_type": "code",
   "execution_count": 26,
   "id": "8798cf88",
   "metadata": {},
   "outputs": [],
   "source": [
    "seed = 99\n",
    "rng = np.random.default_rng(None)\n",
    "ahat = rng.uniform(0.1,1, size=(10,10))\n",
    "mhat = rng.uniform(0.1,1, size=10)\n",
    "w_hyperparam = np.linspace(0.5,5,100)"
   ]
  },
  {
   "cell_type": "code",
   "execution_count": 27,
   "id": "e669143e",
   "metadata": {
    "scrolled": true
   },
   "outputs": [
    {
     "name": "stdout",
     "output_type": "stream",
     "text": [
      "Execution time in minutes: 56.76680162747701\n"
     ]
    }
   ],
   "source": [
    "startTime = time.time() # start timer\n",
    "\n",
    "omega_index15 = 0 # store index of best value of omega \n",
    "ahat_vals15 = [] \n",
    "mhat_vals15 = []\n",
    "\n",
    "ahat_arr15 = []; mhat_arr15 = []\n",
    "LL_arr15 = []; res15 = []\n",
    "\n",
    "\n",
    "\n",
    "for w in range(len(w_hyperparam)):\n",
    "    #print(f'hyperparameter omega: ', w[i])\n",
    "\n",
    "    res15 += [P_multiv15.EM(ahat, mhat, w_hyperparam[w], verbose=False)]\n",
    "    ahat_arr15 += [res15[w][0]] \n",
    "    mhat_arr15 += [res15[w][1]]\n",
    "    LL_arr15 += [-res15[w][-1]] # negative log-likelihood\n",
    "\n",
    "executionTime = (time.time() - startTime) # stoper timer and measure the execution time\n",
    "print('Execution time in minutes: ' + str(executionTime/60))"
   ]
  },
  {
   "cell_type": "markdown",
   "id": "e1db436b",
   "metadata": {},
   "source": [
    "# Model 10 price series as Multivariate HP and apply EM algorithm to perform parameter estimation of the multivariate HP for 20% quantile"
   ]
  },
  {
   "cell_type": "code",
   "execution_count": 28,
   "id": "5dc61081",
   "metadata": {
    "scrolled": true
   },
   "outputs": [
    {
     "name": "stdout",
     "output_type": "stream",
     "text": [
      "Max eigenvalue: 0.50000\n"
     ]
    },
    {
     "data": {
      "text/plain": [
       "array([[8.100799527589691, array([0])],\n",
       "       [14.266187292856682, array([0])],\n",
       "       [14.308272620795698, array([0])],\n",
       "       [14.998483326815665, array([0])],\n",
       "       [15.71317953153696, array([0])],\n",
       "       [16.358076062251705, array([0])],\n",
       "       [17.058609391358402, array([0])],\n",
       "       [17.186752806156218, array([0])]], dtype=object)"
      ]
     },
     "execution_count": 28,
     "metadata": {},
     "output_type": "execute_result"
    }
   ],
   "source": [
    "P_multiv20 = MHP.MHP() # instantiate MHP object\n",
    "P_multiv20.generate_seq(20) # mu=[0.1], alpha=[[0.5]], and omega=1.0"
   ]
  },
  {
   "cell_type": "code",
   "execution_count": 29,
   "id": "9165efec",
   "metadata": {},
   "outputs": [
    {
     "data": {
      "text/plain": [
       "array([[0.620751410205026, array([8])],\n",
       "       [0.6221520395659299, array([7])],\n",
       "       [0.6411493805084759, array([2])],\n",
       "       ...,\n",
       "       [146.77694603906556, array([9])],\n",
       "       [146.79703879414006, array([8])],\n",
       "       [146.91432801351917, array([2])]], dtype=object)"
      ]
     },
     "execution_count": 29,
     "metadata": {},
     "output_type": "execute_result"
    }
   ],
   "source": [
    "P_multiv20.data = data20\n",
    "P_multiv20.data"
   ]
  },
  {
   "cell_type": "code",
   "execution_count": 30,
   "id": "bc364f2a",
   "metadata": {},
   "outputs": [],
   "source": [
    "seed = 99\n",
    "rng = np.random.default_rng(None)\n",
    "ahat = rng.uniform(0.1,1, size=(10,10))\n",
    "mhat = rng.uniform(0.1,1, size=10)\n",
    "w_hyperparam20 = np.linspace(0.5,5,100)"
   ]
  },
  {
   "cell_type": "code",
   "execution_count": 31,
   "id": "a3eb22bf",
   "metadata": {},
   "outputs": [
    {
     "name": "stdout",
     "output_type": "stream",
     "text": [
      "Execution time in minutes: 94.45322011311849\n"
     ]
    }
   ],
   "source": [
    "startTime = time.time() # start timer\n",
    "\n",
    "omega_index20 = 0 # store index of best value of omega \n",
    "ahat_vals20 = [] \n",
    "mhat_vals20 = []\n",
    "\n",
    "ahat_arr20 = []; mhat_arr20 = []\n",
    "LL_arr20 = []; res20 = []\n",
    "\n",
    "\n",
    "\n",
    "for w in range(len(w_hyperparam)):\n",
    "    #print(f'hyperparameter omega: ', w[i])\n",
    "\n",
    "    res20 += [P_multiv20.EM(ahat, mhat, w_hyperparam20[w], verbose=False)]\n",
    "    ahat_arr20 += [res20[w][0]] \n",
    "    mhat_arr20 += [res20[w][1]]\n",
    "    LL_arr20 += [-res20[w][-1]] # negative log-likelihood\n",
    "\n",
    "executionTime = (time.time() - startTime) # stoper timer and measure the execution time\n",
    "print('Execution time in minutes: ' + str(executionTime/60))"
   ]
  },
  {
   "cell_type": "code",
   "execution_count": 32,
   "id": "4dd8c762",
   "metadata": {},
   "outputs": [
    {
     "data": {
      "application/vnd.jupyter.widget-view+json": {
       "model_id": "b4781e792fbf4e86af68d1a6e9f0546a",
       "version_major": 2,
       "version_minor": 0
      },
      "text/plain": [
       "Canvas(toolbar=Toolbar(toolitems=[('Home', 'Reset original view', 'home', 'home'), ('Back', 'Back to previous …"
      ]
     },
     "metadata": {},
     "output_type": "display_data"
    }
   ],
   "source": [
    "# axes are in a two-dimensional array, indexed by [row, col]\n",
    "#plt.rcdefaults()\n",
    "\n",
    "fig, axs = plt.subplots(1, 3)\n",
    "\n",
    "plt.rcParams[\"figure.figsize\"] = (16, 9) #set default figure size (w, h) \n",
    "plt.style.use(\"ggplot\")\n",
    "# change the fontsize of the xtick and ytick labels\n",
    "plt.rc('xtick', labelsize=20)\n",
    "plt.rc('ytick', labelsize=20)\n",
    "\n",
    "# 10% case\n",
    "min_index10 = np.argmin(LL_arr10)\n",
    "omega_index10 = min_index10\n",
    "mhat_vals10 = mhat_arr10[min_index10]\n",
    "ahat_vals10 = ahat_arr10[min_index10]\n",
    "omegahat10 = w_hyperparam[omega_index10]\n",
    "\n",
    "# 15% case\n",
    "min_index15 = np.argmin(LL_arr15)\n",
    "omega_index15 = min_index15\n",
    "mhat_vals15 = mhat_arr15[min_index15]\n",
    "ahat_vals15 = ahat_arr15[min_index15]\n",
    "omegahat15 = w_hyperparam[omega_index15]\n",
    "\n",
    "# 20% case\n",
    "min_index20 = np.argmin(LL_arr20)\n",
    "omega_index20 = min_index20\n",
    "mhat_vals20 = mhat_arr20[min_index20]\n",
    "ahat_vals20 = ahat_arr20[min_index20]\n",
    "omegahat20 = w_hyperparam[omega_index20]\n",
    "\n",
    "axs[0].plot(w_hyperparam, LL_arr10)\n",
    "\n",
    "axs[0].set_xlabel(r'omega, $\\omega$',fontsize=20)\n",
    "\n",
    "axs[0].set_ylabel('Negative log-likelihood',fontsize=20)\n",
    "axs[0].scatter(x=w_hyperparam[min_index10],y=LL_arr10[min_index10], c='b',s=40,marker='X',linewidths=1)\n",
    "\n",
    "\n",
    "\n",
    "axs[1].plot(w_hyperparam, LL_arr15)\n",
    "\n",
    "axs[1].set_xlabel(r'omega, $\\omega$',fontsize=20)\n",
    "\n",
    "axs[1].scatter(x=w_hyperparam[min_index15],y=LL_arr15[min_index15], c='b',s=40,marker='X',linewidths=1)\n",
    "\n",
    "\n",
    "\n",
    "\n",
    "axs[2].plot(w_hyperparam20, LL_arr20)\n",
    "\n",
    "axs[2].set_xlabel(r'omega, $\\omega$',fontsize=20)\n",
    "\n",
    "axs[2].scatter(x=w_hyperparam20[min_index20],y=LL_arr20[min_index20], c='b',s=40,marker='X',linewidths=1)\n",
    "\n",
    "\n",
    "\n",
    "plt.tight_layout()\n",
    "#plt.savefig('NLL_multiv_unzoomed10_15_20.png')\n",
    "plt.show()\n",
    "plt.ion()"
   ]
  },
  {
   "cell_type": "code",
   "execution_count": 5,
   "id": "e9b0e06e",
   "metadata": {},
   "outputs": [
    {
     "data": {
      "text/plain": [
       "(2.090909090909091, 2.3181818181818183, 2.1818181818181817)"
      ]
     },
     "execution_count": 5,
     "metadata": {},
     "output_type": "execute_result"
    }
   ],
   "source": [
    "omegahat10, omegahat15, omegahat20"
   ]
  },
  {
   "cell_type": "code",
   "execution_count": 6,
   "id": "3d3beacd",
   "metadata": {},
   "outputs": [
    {
     "data": {
      "text/plain": [
       "(array([0.08323203, 0.11911056, 0.17495176, 0.17494162, 0.43068382,\n",
       "        0.2258327 , 0.02641085, 0.14641441, 0.2785459 , 0.08151759]),\n",
       " array([0.03950351, 0.10116131, 0.05575779, 0.2398134 , 0.67374448,\n",
       "        0.32636353, 0.01148297, 0.19069355, 0.09841817, 0.07592986]),\n",
       " array([0.01456292, 0.0770767 , 0.20278501, 0.18288805, 0.57295972,\n",
       "        0.27609656, 0.07930378, 0.23417148, 0.0706239 , 0.03921634]))"
      ]
     },
     "execution_count": 6,
     "metadata": {},
     "output_type": "execute_result"
    }
   ],
   "source": [
    "mhat_vals10, mhat_vals15, mhat_vals20"
   ]
  },
  {
   "cell_type": "code",
   "execution_count": null,
   "id": "38a284de",
   "metadata": {},
   "outputs": [],
   "source": []
  },
  {
   "cell_type": "code",
   "execution_count": 24,
   "id": "3c05a671",
   "metadata": {},
   "outputs": [
    {
     "data": {
      "text/plain": [
       "2.2727272727272725"
      ]
     },
     "execution_count": 24,
     "metadata": {},
     "output_type": "execute_result"
    }
   ],
   "source": [
    "squad"
   ]
  },
  {
   "cell_type": "markdown",
   "id": "dee88d25",
   "metadata": {},
   "source": [
    "# Save this session and load it back"
   ]
  },
  {
   "cell_type": "code",
   "execution_count": 33,
   "id": "77e94990",
   "metadata": {},
   "outputs": [],
   "source": [
    "import dill\n",
    "dill.dump_session('DJIA_multivHP_10_15_20_September_v2_random10.db')"
   ]
  },
  {
   "cell_type": "code",
   "execution_count": 5,
   "id": "53eadd4e",
   "metadata": {},
   "outputs": [
    {
     "data": {
      "application/vnd.jupyter.widget-view+json": {
       "model_id": "8c5337d945f64c7a924181b70d44ea8f",
       "version_major": 2,
       "version_minor": 0
      },
      "text/plain": [
       "Canvas(toolbar=Toolbar(toolitems=[('Home', 'Reset original view', 'home', 'home'), ('Back', 'Back to previous …"
      ]
     },
     "metadata": {},
     "output_type": "display_data"
    },
    {
     "data": {
      "application/vnd.jupyter.widget-view+json": {
       "model_id": "482e3c4716cb4af48c63f13cbc2b067b",
       "version_major": 2,
       "version_minor": 0
      },
      "text/plain": [
       "Canvas(toolbar=Toolbar(toolitems=[('Home', 'Reset original view', 'home', 'home'), ('Back', 'Back to previous …"
      ]
     },
     "metadata": {},
     "output_type": "display_data"
    }
   ],
   "source": [
    "#dill.load_session('DJIA_multivHP_10_15_20_September_v1.db')\n",
    "dill.dump_session('DJIA_multivHP_10_15_20_September_v2_random10.db')"
   ]
  },
  {
   "cell_type": "code",
   "execution_count": null,
   "id": "0747baeb",
   "metadata": {},
   "outputs": [],
   "source": [
    "squad"
   ]
  },
  {
   "cell_type": "markdown",
   "id": "04f30aee",
   "metadata": {},
   "source": [
    "# Save this session and load it back"
   ]
  },
  {
   "cell_type": "code",
   "execution_count": null,
   "id": "ea54ace0",
   "metadata": {},
   "outputs": [],
   "source": [
    "import dill\n",
    "#dill.dump_session('DJIA_multivHP_15_env_v2.db')\n",
    "#dill.load_session('DJIA_multivHP_env_v2.db')"
   ]
  },
  {
   "cell_type": "code",
   "execution_count": null,
   "id": "aa524532",
   "metadata": {},
   "outputs": [],
   "source": []
  }
 ],
 "metadata": {
  "kernelspec": {
   "display_name": "Python 3",
   "language": "python",
   "name": "python3"
  },
  "language_info": {
   "codemirror_mode": {
    "name": "ipython",
    "version": 3
   },
   "file_extension": ".py",
   "mimetype": "text/x-python",
   "name": "python",
   "nbconvert_exporter": "python",
   "pygments_lexer": "ipython3",
   "version": "3.7.11"
  }
 },
 "nbformat": 4,
 "nbformat_minor": 5
}
